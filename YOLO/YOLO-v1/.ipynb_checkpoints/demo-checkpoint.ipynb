{
 "cells": [
  {
   "cell_type": "code",
   "execution_count": 6,
   "metadata": {},
   "outputs": [],
   "source": [
    "import tensorflow as tf\n",
    "import numpy as np\n",
    "from operator import mul\n",
    "\n",
    "from tensorflow.contrib import slim"
   ]
  },
  {
   "cell_type": "code",
   "execution_count": 2,
   "metadata": {},
   "outputs": [],
   "source": [
    "#refer:https://blog.csdn.net/two_vv/article/details/76769860\n",
    "#alexnet原始模型以及预训练参数导入\n",
    "class AlexNet_model(object):\n",
    "    def __init__(self , is_training=True):\n",
    "        \n",
    "        self.x = tf.placeholder(dtype=tf.float32 , shape=[1 , 448 , 448 , 3])\n",
    "        self.target = tf.placeholder(dtype=tf.float32 , shape=[7 , 7 , 30])\n",
    "        \n",
    "        \n",
    "        #self.build(is_training)\n",
    "        \n",
    "            \n",
    "    \n",
    "\n",
    "    def build(self , is_training=True , keep_prob=0.5):\n",
    "        def _conv(_input , num_outputs , kernel_size , stride=1):\n",
    "            return slim.conv2d(_input , num_outputs=num_outputs , kernel_size=kernel_size , stride=stride , activation_fn=tf.nn.leaky_relu ,\n",
    "                             weights_initializer=tf.initializers.truncated_normal(stddev=0.01) ,\n",
    "                             biases_initializer=tf.initializers.constant(0.0))\n",
    "\n",
    "        def _max_pool(_input , kernel_size=2 , stride=2):\n",
    "            return slim.max_pool2d(_input , kernel_size=kernel_size , stride=stride)\n",
    "\n",
    "\n",
    "        def _conv_module_a(_input):\n",
    "            _output = _conv(_input , 256 , 1)\n",
    "            return _conv(_output , 512 , 3)\n",
    "\n",
    "        def _conv_module_b(_input):\n",
    "            _output = _conv(_input , 512 , 1)\n",
    "            return _conv(_output , 1024 , 3)\n",
    "\n",
    "        output = _conv(self.x , 64 , 7 , 2)                \n",
    "        output = _max_pool(output)\n",
    "\n",
    "        output = _conv(output , 192 , 3)              \n",
    "        output = _max_pool(output)\n",
    "\n",
    "        output = _conv(output , 128 , 1)\n",
    "        output = _conv(output , 256 , 3)\n",
    "        output = _conv(output , 256 , 1)\n",
    "        output = _conv(output , 512 , 3)\n",
    "        output = _max_pool(output)\n",
    "\n",
    "        #4 times\n",
    "        output = _conv_module_a(output)\n",
    "        output = _conv_module_a(output)\n",
    "        output = _conv_module_a(output)\n",
    "        output = _conv_module_a(output)\n",
    "\n",
    "        output = _conv(output , 512 , 1)\n",
    "        output = _conv(output , 1024 , 3)\n",
    "        output = _max_pool(output)\n",
    "\n",
    "        #twice\n",
    "        output = _conv_module_b(output)\n",
    "        output = _conv_module_b(output)\n",
    "\n",
    "        output = _conv(output , 1024 , 3)\n",
    "        output = _conv(output , 1024 , 3 , 2)\n",
    "\n",
    "        output = _conv(output , 1024 , 3)\n",
    "        output = _conv(output , 1024 , 3)\n",
    "\n",
    "        output = slim.flatten(output)\n",
    "\n",
    "        output = slim.fully_connected(inputs=output , num_outputs=4096 , activation_fn=tf.nn.leaky_relu ,\n",
    "                                     weights_initializer=tf.initializers.truncated_normal(stddev=0.01),\n",
    "                                     biases_initializer=tf.initializers.constant(0.0))\n",
    "\n",
    "        output = slim.fully_connected(inputs=output , num_outputs=7*7*30 , activation_fn=tf.identity ,\n",
    "                                     weights_initializer=tf.initializers.truncated_normal(stddev=0.01),\n",
    "                                     biases_initializer=tf.initializers.constant(0.0))\n",
    "\n",
    "        output = tf.reshape(output , shape=[7 , 7 , 30])\n",
    "\n",
    "        return output\n",
    "        "
   ]
  },
  {
   "cell_type": "code",
   "execution_count": 3,
   "metadata": {},
   "outputs": [],
   "source": [
    "test=AlexNet_model()"
   ]
  },
  {
   "cell_type": "code",
   "execution_count": 4,
   "metadata": {},
   "outputs": [
    {
     "data": {
      "text/plain": [
       "TensorShape([Dimension(7), Dimension(7), Dimension(30)])"
      ]
     },
     "execution_count": 4,
     "metadata": {},
     "output_type": "execute_result"
    }
   ],
   "source": [
    "test.build().get_shape()"
   ]
  },
  {
   "cell_type": "code",
   "execution_count": 5,
   "metadata": {},
   "outputs": [
    {
     "data": {
      "text/plain": [
       "[<tf.Variable 'Conv/weights:0' shape=(7, 7, 3, 64) dtype=float32_ref>,\n",
       " <tf.Variable 'Conv/biases:0' shape=(64,) dtype=float32_ref>,\n",
       " <tf.Variable 'Conv_1/weights:0' shape=(3, 3, 64, 192) dtype=float32_ref>,\n",
       " <tf.Variable 'Conv_1/biases:0' shape=(192,) dtype=float32_ref>,\n",
       " <tf.Variable 'Conv_2/weights:0' shape=(1, 1, 192, 128) dtype=float32_ref>,\n",
       " <tf.Variable 'Conv_2/biases:0' shape=(128,) dtype=float32_ref>,\n",
       " <tf.Variable 'Conv_3/weights:0' shape=(3, 3, 128, 256) dtype=float32_ref>,\n",
       " <tf.Variable 'Conv_3/biases:0' shape=(256,) dtype=float32_ref>,\n",
       " <tf.Variable 'Conv_4/weights:0' shape=(1, 1, 256, 256) dtype=float32_ref>,\n",
       " <tf.Variable 'Conv_4/biases:0' shape=(256,) dtype=float32_ref>,\n",
       " <tf.Variable 'Conv_5/weights:0' shape=(3, 3, 256, 512) dtype=float32_ref>,\n",
       " <tf.Variable 'Conv_5/biases:0' shape=(512,) dtype=float32_ref>,\n",
       " <tf.Variable 'Conv_6/weights:0' shape=(1, 1, 512, 256) dtype=float32_ref>,\n",
       " <tf.Variable 'Conv_6/biases:0' shape=(256,) dtype=float32_ref>,\n",
       " <tf.Variable 'Conv_7/weights:0' shape=(3, 3, 256, 512) dtype=float32_ref>,\n",
       " <tf.Variable 'Conv_7/biases:0' shape=(512,) dtype=float32_ref>,\n",
       " <tf.Variable 'Conv_8/weights:0' shape=(1, 1, 512, 256) dtype=float32_ref>,\n",
       " <tf.Variable 'Conv_8/biases:0' shape=(256,) dtype=float32_ref>,\n",
       " <tf.Variable 'Conv_9/weights:0' shape=(3, 3, 256, 512) dtype=float32_ref>,\n",
       " <tf.Variable 'Conv_9/biases:0' shape=(512,) dtype=float32_ref>,\n",
       " <tf.Variable 'Conv_10/weights:0' shape=(1, 1, 512, 256) dtype=float32_ref>,\n",
       " <tf.Variable 'Conv_10/biases:0' shape=(256,) dtype=float32_ref>,\n",
       " <tf.Variable 'Conv_11/weights:0' shape=(3, 3, 256, 512) dtype=float32_ref>,\n",
       " <tf.Variable 'Conv_11/biases:0' shape=(512,) dtype=float32_ref>,\n",
       " <tf.Variable 'Conv_12/weights:0' shape=(1, 1, 512, 256) dtype=float32_ref>,\n",
       " <tf.Variable 'Conv_12/biases:0' shape=(256,) dtype=float32_ref>,\n",
       " <tf.Variable 'Conv_13/weights:0' shape=(3, 3, 256, 512) dtype=float32_ref>,\n",
       " <tf.Variable 'Conv_13/biases:0' shape=(512,) dtype=float32_ref>,\n",
       " <tf.Variable 'Conv_14/weights:0' shape=(1, 1, 512, 512) dtype=float32_ref>,\n",
       " <tf.Variable 'Conv_14/biases:0' shape=(512,) dtype=float32_ref>,\n",
       " <tf.Variable 'Conv_15/weights:0' shape=(3, 3, 512, 1024) dtype=float32_ref>,\n",
       " <tf.Variable 'Conv_15/biases:0' shape=(1024,) dtype=float32_ref>,\n",
       " <tf.Variable 'Conv_16/weights:0' shape=(1, 1, 1024, 512) dtype=float32_ref>,\n",
       " <tf.Variable 'Conv_16/biases:0' shape=(512,) dtype=float32_ref>,\n",
       " <tf.Variable 'Conv_17/weights:0' shape=(3, 3, 512, 1024) dtype=float32_ref>,\n",
       " <tf.Variable 'Conv_17/biases:0' shape=(1024,) dtype=float32_ref>,\n",
       " <tf.Variable 'Conv_18/weights:0' shape=(1, 1, 1024, 512) dtype=float32_ref>,\n",
       " <tf.Variable 'Conv_18/biases:0' shape=(512,) dtype=float32_ref>,\n",
       " <tf.Variable 'Conv_19/weights:0' shape=(3, 3, 512, 1024) dtype=float32_ref>,\n",
       " <tf.Variable 'Conv_19/biases:0' shape=(1024,) dtype=float32_ref>,\n",
       " <tf.Variable 'Conv_20/weights:0' shape=(3, 3, 1024, 1024) dtype=float32_ref>,\n",
       " <tf.Variable 'Conv_20/biases:0' shape=(1024,) dtype=float32_ref>,\n",
       " <tf.Variable 'Conv_21/weights:0' shape=(3, 3, 1024, 1024) dtype=float32_ref>,\n",
       " <tf.Variable 'Conv_21/biases:0' shape=(1024,) dtype=float32_ref>,\n",
       " <tf.Variable 'Conv_22/weights:0' shape=(3, 3, 1024, 1024) dtype=float32_ref>,\n",
       " <tf.Variable 'Conv_22/biases:0' shape=(1024,) dtype=float32_ref>,\n",
       " <tf.Variable 'Conv_23/weights:0' shape=(3, 3, 1024, 1024) dtype=float32_ref>,\n",
       " <tf.Variable 'Conv_23/biases:0' shape=(1024,) dtype=float32_ref>,\n",
       " <tf.Variable 'fully_connected/weights:0' shape=(50176, 4096) dtype=float32_ref>,\n",
       " <tf.Variable 'fully_connected/biases:0' shape=(4096,) dtype=float32_ref>,\n",
       " <tf.Variable 'fully_connected_1/weights:0' shape=(4096, 1470) dtype=float32_ref>,\n",
       " <tf.Variable 'fully_connected_1/biases:0' shape=(1470,) dtype=float32_ref>]"
      ]
     },
     "execution_count": 5,
     "metadata": {},
     "output_type": "execute_result"
    }
   ],
   "source": [
    "tf.trainable_variables()"
   ]
  },
  {
   "cell_type": "code",
   "execution_count": 9,
   "metadata": {},
   "outputs": [],
   "source": [
    "num_params = 0\n",
    "for variable in tf.trainable_variables():\n",
    "    shape = variable.get_shape().as_list()\n",
    "    num_params+=np.prod(shape)"
   ]
  },
  {
   "cell_type": "code",
   "execution_count": 11,
   "metadata": {},
   "outputs": [
    {
     "data": {
      "text/plain": [
       "1.0121745988726616"
      ]
     },
     "execution_count": 11,
     "metadata": {},
     "output_type": "execute_result"
    }
   ],
   "source": [
    "num_params*4/1024/1024/1024"
   ]
  },
  {
   "cell_type": "code",
   "execution_count": 28,
   "metadata": {},
   "outputs": [],
   "source": [
    "a=np.array([\n",
    "            [[0.7],[0.0],[0.2]],\n",
    "    [[0.0],[0.2],[0.0]],\n",
    "    [[0.1],[0.0],[0.8]]\n",
    "        ])"
   ]
  },
  {
   "cell_type": "code",
   "execution_count": 30,
   "metadata": {},
   "outputs": [
    {
     "data": {
      "text/plain": [
       "array([[[0.7],\n",
       "        [0. ],\n",
       "        [0.2]],\n",
       "\n",
       "       [[0. ],\n",
       "        [0.2],\n",
       "        [0. ]],\n",
       "\n",
       "       [[0.1],\n",
       "        [0. ],\n",
       "        [0.8]]])"
      ]
     },
     "execution_count": 30,
     "metadata": {},
     "output_type": "execute_result"
    }
   ],
   "source": [
    "a"
   ]
  },
  {
   "cell_type": "code",
   "execution_count": 31,
   "metadata": {},
   "outputs": [
    {
     "name": "stdout",
     "output_type": "stream",
     "text": [
      "[[[1.]\n",
      "  [0.]\n",
      "  [1.]]\n",
      "\n",
      " [[0.]\n",
      "  [1.]\n",
      "  [0.]]\n",
      "\n",
      " [[1.]\n",
      "  [0.]\n",
      "  [1.]]]\n"
     ]
    }
   ],
   "source": [
    "with tf.Session() as sess:\n",
    "    print( sess.run( tf.cast ( tf.greater(a , np.zeros(shape=[3,3,1] , dtype=float))  , dtype=tf.float32) ) )"
   ]
  },
  {
   "cell_type": "code",
   "execution_count": null,
   "metadata": {
    "collapsed": true
   },
   "outputs": [],
   "source": []
  },
  {
   "cell_type": "code",
   "execution_count": 45,
   "metadata": {
    "collapsed": true
   },
   "outputs": [],
   "source": [
    "output = tf.placeholder(dtype=tf.float32 , shape=[7 , 7 , 30])\n",
    "target = tf.placeholder(dtype=tf.float32 , shape=[7 , 7 , 30])"
   ]
  },
  {
   "cell_type": "code",
   "execution_count": null,
   "metadata": {
    "collapsed": true
   },
   "outputs": [],
   "source": [
    "tf.slice(output , begin=[0,0,1] , size=[7,7,2])"
   ]
  },
  {
   "cell_type": "code",
   "execution_count": 46,
   "metadata": {},
   "outputs": [
    {
     "ename": "TypeError",
     "evalue": "can only concatenate list (not \"int\") to list",
     "output_type": "error",
     "traceback": [
      "\u001b[1;31m---------------------------------------------------------------------------\u001b[0m",
      "\u001b[1;31mTypeError\u001b[0m                                 Traceback (most recent call last)",
      "\u001b[1;32m<ipython-input-46-8ae81036a09e>\u001b[0m in \u001b[0;36m<module>\u001b[1;34m()\u001b[0m\n\u001b[1;32m----> 1\u001b[1;33m \u001b[0msub\u001b[0m \u001b[1;33m=\u001b[0m \u001b[0moutput\u001b[0m\u001b[1;33m[\u001b[0m\u001b[1;33m:\u001b[0m\u001b[1;33m,\u001b[0m\u001b[1;33m:\u001b[0m\u001b[1;33m,\u001b[0m\u001b[1;33m[\u001b[0m\u001b[1;36m1\u001b[0m\u001b[1;33m,\u001b[0m\u001b[1;36m2\u001b[0m\u001b[1;33m]\u001b[0m\u001b[1;33m]\u001b[0m \u001b[1;33m-\u001b[0m \u001b[0mtarget\u001b[0m\u001b[1;33m[\u001b[0m\u001b[1;33m:\u001b[0m\u001b[1;33m,\u001b[0m\u001b[1;33m:\u001b[0m\u001b[1;33m,\u001b[0m\u001b[1;33m[\u001b[0m\u001b[1;36m1\u001b[0m\u001b[1;33m,\u001b[0m\u001b[1;36m2\u001b[0m\u001b[1;33m]\u001b[0m\u001b[1;33m]\u001b[0m\u001b[1;33m\u001b[0m\u001b[0m\n\u001b[0m",
      "\u001b[1;32mC:\\Anaconda3\\lib\\site-packages\\tensorflow\\python\\ops\\array_ops.py\u001b[0m in \u001b[0;36m_slice_helper\u001b[1;34m(tensor, slice_spec, var)\u001b[0m\n\u001b[0;32m    488\u001b[0m     \u001b[1;32melse\u001b[0m\u001b[1;33m:\u001b[0m\u001b[1;33m\u001b[0m\u001b[0m\n\u001b[0;32m    489\u001b[0m       \u001b[0mbegin\u001b[0m\u001b[1;33m.\u001b[0m\u001b[0mappend\u001b[0m\u001b[1;33m(\u001b[0m\u001b[0ms\u001b[0m\u001b[1;33m)\u001b[0m\u001b[1;33m\u001b[0m\u001b[0m\n\u001b[1;32m--> 490\u001b[1;33m       \u001b[0mend\u001b[0m\u001b[1;33m.\u001b[0m\u001b[0mappend\u001b[0m\u001b[1;33m(\u001b[0m\u001b[0ms\u001b[0m \u001b[1;33m+\u001b[0m \u001b[1;36m1\u001b[0m\u001b[1;33m)\u001b[0m\u001b[1;33m\u001b[0m\u001b[0m\n\u001b[0m\u001b[0;32m    491\u001b[0m       \u001b[0mstrides\u001b[0m\u001b[1;33m.\u001b[0m\u001b[0mappend\u001b[0m\u001b[1;33m(\u001b[0m\u001b[1;36m1\u001b[0m\u001b[1;33m)\u001b[0m\u001b[1;33m\u001b[0m\u001b[0m\n\u001b[0;32m    492\u001b[0m       \u001b[0mshrink_axis_mask\u001b[0m \u001b[1;33m|=\u001b[0m \u001b[1;33m(\u001b[0m\u001b[1;36m1\u001b[0m \u001b[1;33m<<\u001b[0m \u001b[0mindex\u001b[0m\u001b[1;33m)\u001b[0m\u001b[1;33m\u001b[0m\u001b[0m\n",
      "\u001b[1;31mTypeError\u001b[0m: can only concatenate list (not \"int\") to list"
     ]
    }
   ],
   "source": [
    "sub = output[:,:,[1,2]] - target[:,:,[1,2]]"
   ]
  },
  {
   "cell_type": "code",
   "execution_count": null,
   "metadata": {
    "collapsed": true
   },
   "outputs": [],
   "source": []
  }
 ],
 "metadata": {
  "kernelspec": {
   "display_name": "Python 3",
   "language": "python",
   "name": "python3"
  },
  "language_info": {
   "codemirror_mode": {
    "name": "ipython",
    "version": 3
   },
   "file_extension": ".py",
   "mimetype": "text/x-python",
   "name": "python",
   "nbconvert_exporter": "python",
   "pygments_lexer": "ipython3",
   "version": "3.6.1"
  }
 },
 "nbformat": 4,
 "nbformat_minor": 2
}
