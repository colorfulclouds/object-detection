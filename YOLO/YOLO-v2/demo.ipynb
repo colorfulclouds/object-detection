{
 "cells": [
  {
   "cell_type": "code",
   "execution_count": 20,
   "metadata": {},
   "outputs": [],
   "source": [
    "import numpy as np\n",
    "import tensorflow as tf"
   ]
  },
  {
   "cell_type": "code",
   "execution_count": 4,
   "metadata": {
    "collapsed": true
   },
   "outputs": [],
   "source": [
    "\n",
    "a=np.array([[1.3221,1.73145],[3.19275,4.00944],[5.05587,8009892],[9.47112,4.84053],[11.2364,10.0071]])"
   ]
  },
  {
   "cell_type": "code",
   "execution_count": 7,
   "metadata": {
    "collapsed": true
   },
   "outputs": [],
   "source": [
    "a=a*32"
   ]
  },
  {
   "cell_type": "code",
   "execution_count": 8,
   "metadata": {},
   "outputs": [
    {
     "data": {
      "text/plain": [
       "array([[4.23072000e+01, 5.54064000e+01],\n",
       "       [1.02168000e+02, 1.28302080e+02],\n",
       "       [1.61787840e+02, 2.56316544e+08],\n",
       "       [3.03075840e+02, 1.54896960e+02],\n",
       "       [3.59564800e+02, 3.20227200e+02]])"
      ]
     },
     "execution_count": 8,
     "metadata": {},
     "output_type": "execute_result"
    }
   ],
   "source": [
    "a"
   ]
  },
  {
   "cell_type": "code",
   "execution_count": 9,
   "metadata": {},
   "outputs": [
    {
     "data": {
      "text/plain": [
       "array([[1.01700000e-01, 1.33188462e-01],\n",
       "       [2.45596154e-01, 3.08418462e-01],\n",
       "       [3.88913077e-01, 6.16145538e+05],\n",
       "       [7.28547692e-01, 3.72348462e-01],\n",
       "       [8.64338462e-01, 7.69776923e-01]])"
      ]
     },
     "execution_count": 9,
     "metadata": {},
     "output_type": "execute_result"
    }
   ],
   "source": [
    "a/np.array([416,416])"
   ]
  },
  {
   "cell_type": "code",
   "execution_count": 12,
   "metadata": {},
   "outputs": [
    {
     "data": {
      "text/plain": [
       "array([1, 3])"
      ]
     },
     "execution_count": 12,
     "metadata": {},
     "output_type": "execute_result"
    }
   ],
   "source": [
    "np.minimum([1,3],[2,3])"
   ]
  },
  {
   "cell_type": "code",
   "execution_count": 13,
   "metadata": {},
   "outputs": [
    {
     "data": {
      "text/plain": [
       "array([[0.5, 0. ],\n",
       "       [0. , 1. ]])"
      ]
     },
     "execution_count": 13,
     "metadata": {},
     "output_type": "execute_result"
    }
   ],
   "source": [
    "np.minimum(np.eye(2), [0.5, 2])"
   ]
  },
  {
   "cell_type": "code",
   "execution_count": 14,
   "metadata": {},
   "outputs": [
    {
     "data": {
      "text/plain": [
       "array([[1., 0.],\n",
       "       [0., 1.]])"
      ]
     },
     "execution_count": 14,
     "metadata": {},
     "output_type": "execute_result"
    }
   ],
   "source": [
    "np.eye(2)"
   ]
  },
  {
   "cell_type": "code",
   "execution_count": 3,
   "metadata": {
    "collapsed": true
   },
   "outputs": [],
   "source": [
    "a=np.array( [[42.3072,55.4064],[102.168,128.30208],[161.78784,256.316544],[303.07584,154.89696],[359.5648,320.2272]] )"
   ]
  },
  {
   "cell_type": "code",
   "execution_count": 2,
   "metadata": {},
   "outputs": [
    {
     "data": {
      "text/plain": [
       "array([[ 42.3072  ,  55.4064  , 102.168   , 128.30208 , 161.78784 ],\n",
       "       [256.316544, 303.07584 , 154.89696 , 359.5648  , 320.2272  ]])"
      ]
     },
     "execution_count": 2,
     "metadata": {},
     "output_type": "execute_result"
    }
   ],
   "source": [
    "np.reshape( [[42.3072,55.4064],[102.168,128.30208],[161.78784,256.316544],[303.07584,154.89696],[359.5648,320.2272]] , (2,5))\n"
   ]
  },
  {
   "cell_type": "code",
   "execution_count": 4,
   "metadata": {},
   "outputs": [
    {
     "data": {
      "text/plain": [
       "array([[ 42.3072  ,  55.4064  , 102.168   , 128.30208 , 161.78784 ],\n",
       "       [256.316544, 303.07584 , 154.89696 , 359.5648  , 320.2272  ]])"
      ]
     },
     "execution_count": 4,
     "metadata": {},
     "output_type": "execute_result"
    }
   ],
   "source": [
    "np.reshape(a , (2,5))"
   ]
  },
  {
   "cell_type": "code",
   "execution_count": 5,
   "metadata": {},
   "outputs": [
    {
     "data": {
      "text/plain": [
       "array([[ 42.3072  , 102.168   , 161.78784 , 303.07584 , 359.5648  ],\n",
       "       [ 55.4064  , 128.30208 , 256.316544, 154.89696 , 320.2272  ]])"
      ]
     },
     "execution_count": 5,
     "metadata": {},
     "output_type": "execute_result"
    }
   ],
   "source": [
    "a.T"
   ]
  },
  {
   "cell_type": "code",
   "execution_count": 6,
   "metadata": {},
   "outputs": [
    {
     "data": {
      "text/plain": [
       "array([[[[[13., 13.]]]]], dtype=float32)"
      ]
     },
     "execution_count": 6,
     "metadata": {},
     "output_type": "execute_result"
    }
   ],
   "source": [
    "np.reshape([13, 13], [1, 1, 1, 1, 2]).astype(np.float32)"
   ]
  },
  {
   "cell_type": "code",
   "execution_count": null,
   "metadata": {
    "collapsed": true
   },
   "outputs": [],
   "source": []
  },
  {
   "cell_type": "code",
   "execution_count": 7,
   "metadata": {
    "collapsed": true
   },
   "outputs": [],
   "source": [
    "grid_w=grid_h=13"
   ]
  },
  {
   "cell_type": "code",
   "execution_count": 17,
   "metadata": {},
   "outputs": [
    {
     "data": {
      "text/plain": [
       "array([[ 0,  0],\n",
       "       [ 1,  0],\n",
       "       [ 2,  0],\n",
       "       [ 3,  0],\n",
       "       [ 4,  0],\n",
       "       [ 5,  0],\n",
       "       [ 6,  0],\n",
       "       [ 7,  0],\n",
       "       [ 8,  0],\n",
       "       [ 9,  0],\n",
       "       [10,  0],\n",
       "       [11,  0],\n",
       "       [12,  0],\n",
       "       [ 0,  1],\n",
       "       [ 1,  1],\n",
       "       [ 2,  1],\n",
       "       [ 3,  1],\n",
       "       [ 4,  1],\n",
       "       [ 5,  1],\n",
       "       [ 6,  1],\n",
       "       [ 7,  1],\n",
       "       [ 8,  1],\n",
       "       [ 9,  1],\n",
       "       [10,  1],\n",
       "       [11,  1],\n",
       "       [12,  1],\n",
       "       [ 0,  2],\n",
       "       [ 1,  2],\n",
       "       [ 2,  2],\n",
       "       [ 3,  2],\n",
       "       [ 4,  2],\n",
       "       [ 5,  2],\n",
       "       [ 6,  2],\n",
       "       [ 7,  2],\n",
       "       [ 8,  2],\n",
       "       [ 9,  2],\n",
       "       [10,  2],\n",
       "       [11,  2],\n",
       "       [12,  2],\n",
       "       [ 0,  3],\n",
       "       [ 1,  3],\n",
       "       [ 2,  3],\n",
       "       [ 3,  3],\n",
       "       [ 4,  3],\n",
       "       [ 5,  3],\n",
       "       [ 6,  3],\n",
       "       [ 7,  3],\n",
       "       [ 8,  3],\n",
       "       [ 9,  3],\n",
       "       [10,  3],\n",
       "       [11,  3],\n",
       "       [12,  3],\n",
       "       [ 0,  4],\n",
       "       [ 1,  4],\n",
       "       [ 2,  4],\n",
       "       [ 3,  4],\n",
       "       [ 4,  4],\n",
       "       [ 5,  4],\n",
       "       [ 6,  4],\n",
       "       [ 7,  4],\n",
       "       [ 8,  4],\n",
       "       [ 9,  4],\n",
       "       [10,  4],\n",
       "       [11,  4],\n",
       "       [12,  4],\n",
       "       [ 0,  5],\n",
       "       [ 1,  5],\n",
       "       [ 2,  5],\n",
       "       [ 3,  5],\n",
       "       [ 4,  5],\n",
       "       [ 5,  5],\n",
       "       [ 6,  5],\n",
       "       [ 7,  5],\n",
       "       [ 8,  5],\n",
       "       [ 9,  5],\n",
       "       [10,  5],\n",
       "       [11,  5],\n",
       "       [12,  5],\n",
       "       [ 0,  6],\n",
       "       [ 1,  6],\n",
       "       [ 2,  6],\n",
       "       [ 3,  6],\n",
       "       [ 4,  6],\n",
       "       [ 5,  6],\n",
       "       [ 6,  6],\n",
       "       [ 7,  6],\n",
       "       [ 8,  6],\n",
       "       [ 9,  6],\n",
       "       [10,  6],\n",
       "       [11,  6],\n",
       "       [12,  6],\n",
       "       [ 0,  7],\n",
       "       [ 1,  7],\n",
       "       [ 2,  7],\n",
       "       [ 3,  7],\n",
       "       [ 4,  7],\n",
       "       [ 5,  7],\n",
       "       [ 6,  7],\n",
       "       [ 7,  7],\n",
       "       [ 8,  7],\n",
       "       [ 9,  7],\n",
       "       [10,  7],\n",
       "       [11,  7],\n",
       "       [12,  7],\n",
       "       [ 0,  8],\n",
       "       [ 1,  8],\n",
       "       [ 2,  8],\n",
       "       [ 3,  8],\n",
       "       [ 4,  8],\n",
       "       [ 5,  8],\n",
       "       [ 6,  8],\n",
       "       [ 7,  8],\n",
       "       [ 8,  8],\n",
       "       [ 9,  8],\n",
       "       [10,  8],\n",
       "       [11,  8],\n",
       "       [12,  8],\n",
       "       [ 0,  9],\n",
       "       [ 1,  9],\n",
       "       [ 2,  9],\n",
       "       [ 3,  9],\n",
       "       [ 4,  9],\n",
       "       [ 5,  9],\n",
       "       [ 6,  9],\n",
       "       [ 7,  9],\n",
       "       [ 8,  9],\n",
       "       [ 9,  9],\n",
       "       [10,  9],\n",
       "       [11,  9],\n",
       "       [12,  9],\n",
       "       [ 0, 10],\n",
       "       [ 1, 10],\n",
       "       [ 2, 10],\n",
       "       [ 3, 10],\n",
       "       [ 4, 10],\n",
       "       [ 5, 10],\n",
       "       [ 6, 10],\n",
       "       [ 7, 10],\n",
       "       [ 8, 10],\n",
       "       [ 9, 10],\n",
       "       [10, 10],\n",
       "       [11, 10],\n",
       "       [12, 10],\n",
       "       [ 0, 11],\n",
       "       [ 1, 11],\n",
       "       [ 2, 11],\n",
       "       [ 3, 11],\n",
       "       [ 4, 11],\n",
       "       [ 5, 11],\n",
       "       [ 6, 11],\n",
       "       [ 7, 11],\n",
       "       [ 8, 11],\n",
       "       [ 9, 11],\n",
       "       [10, 11],\n",
       "       [11, 11],\n",
       "       [12, 11],\n",
       "       [ 0, 12],\n",
       "       [ 1, 12],\n",
       "       [ 2, 12],\n",
       "       [ 3, 12],\n",
       "       [ 4, 12],\n",
       "       [ 5, 12],\n",
       "       [ 6, 12],\n",
       "       [ 7, 12],\n",
       "       [ 8, 12],\n",
       "       [ 9, 12],\n",
       "       [10, 12],\n",
       "       [11, 12],\n",
       "       [12, 12]])"
      ]
     },
     "execution_count": 17,
     "metadata": {},
     "output_type": "execute_result"
    }
   ],
   "source": [
    "np.transpose( [ np.tile( np.arange(grid_w), grid_h ) , np.repeat(np.arange(grid_h), grid_w)] )"
   ]
  },
  {
   "cell_type": "code",
   "execution_count": null,
   "metadata": {
    "collapsed": true
   },
   "outputs": [],
   "source": []
  },
  {
   "cell_type": "code",
   "execution_count": 8,
   "metadata": {
    "collapsed": true
   },
   "outputs": [],
   "source": [
    "cxcy = np.transpose([ np.tile( np.arange(grid_w), grid_h ), np.repeat(np.arange(grid_h), grid_w) ])\n",
    "        \n",
    "cxcy = np.reshape(cxcy, (1, grid_h, grid_w, 1, 2))"
   ]
  },
  {
   "cell_type": "code",
   "execution_count": 18,
   "metadata": {},
   "outputs": [
    {
     "data": {
      "text/plain": [
       "array([ 0,  1,  2,  3,  4,  5,  6,  7,  8,  9, 10, 11, 12,  0,  1,  2,  3,\n",
       "        4,  5,  6,  7,  8,  9, 10, 11, 12,  0,  1,  2,  3,  4,  5,  6,  7,\n",
       "        8,  9, 10, 11, 12,  0,  1,  2,  3,  4,  5,  6,  7,  8,  9, 10, 11,\n",
       "       12,  0,  1,  2,  3,  4,  5,  6,  7,  8,  9, 10, 11, 12,  0,  1,  2,\n",
       "        3,  4,  5,  6,  7,  8,  9, 10, 11, 12,  0,  1,  2,  3,  4,  5,  6,\n",
       "        7,  8,  9, 10, 11, 12,  0,  1,  2,  3,  4,  5,  6,  7,  8,  9, 10,\n",
       "       11, 12,  0,  1,  2,  3,  4,  5,  6,  7,  8,  9, 10, 11, 12,  0,  1,\n",
       "        2,  3,  4,  5,  6,  7,  8,  9, 10, 11, 12,  0,  1,  2,  3,  4,  5,\n",
       "        6,  7,  8,  9, 10, 11, 12,  0,  1,  2,  3,  4,  5,  6,  7,  8,  9,\n",
       "       10, 11, 12,  0,  1,  2,  3,  4,  5,  6,  7,  8,  9, 10, 11, 12])"
      ]
     },
     "execution_count": 18,
     "metadata": {},
     "output_type": "execute_result"
    }
   ],
   "source": [
    "np.tile( np.arange(grid_w), grid_h )"
   ]
  },
  {
   "cell_type": "code",
   "execution_count": 15,
   "metadata": {
    "scrolled": true
   },
   "outputs": [
    {
     "data": {
      "text/plain": [
       "array([ 0,  0,  0,  0,  0,  0,  0,  0,  0,  0,  0,  0,  0,  1,  1,  1,  1,\n",
       "        1,  1,  1,  1,  1,  1,  1,  1,  1,  2,  2,  2,  2,  2,  2,  2,  2,\n",
       "        2,  2,  2,  2,  2,  3,  3,  3,  3,  3,  3,  3,  3,  3,  3,  3,  3,\n",
       "        3,  4,  4,  4,  4,  4,  4,  4,  4,  4,  4,  4,  4,  4,  5,  5,  5,\n",
       "        5,  5,  5,  5,  5,  5,  5,  5,  5,  5,  6,  6,  6,  6,  6,  6,  6,\n",
       "        6,  6,  6,  6,  6,  6,  7,  7,  7,  7,  7,  7,  7,  7,  7,  7,  7,\n",
       "        7,  7,  8,  8,  8,  8,  8,  8,  8,  8,  8,  8,  8,  8,  8,  9,  9,\n",
       "        9,  9,  9,  9,  9,  9,  9,  9,  9,  9,  9, 10, 10, 10, 10, 10, 10,\n",
       "       10, 10, 10, 10, 10, 10, 10, 11, 11, 11, 11, 11, 11, 11, 11, 11, 11,\n",
       "       11, 11, 11, 12, 12, 12, 12, 12, 12, 12, 12, 12, 12, 12, 12, 12])"
      ]
     },
     "execution_count": 15,
     "metadata": {},
     "output_type": "execute_result"
    }
   ],
   "source": [
    "np.repeat(np.arange(grid_h), grid_w)"
   ]
  },
  {
   "cell_type": "code",
   "execution_count": 20,
   "metadata": {},
   "outputs": [
    {
     "data": {
      "text/plain": [
       "array([[1, 4],\n",
       "       [2, 5],\n",
       "       [3, 6]])"
      ]
     },
     "execution_count": 20,
     "metadata": {},
     "output_type": "execute_result"
    }
   ],
   "source": [
    "np.transpose([[1,2,3],[4,5,6]])"
   ]
  },
  {
   "cell_type": "code",
   "execution_count": 21,
   "metadata": {},
   "outputs": [
    {
     "data": {
      "text/plain": [
       "array([[[[[ 0,  0]],\n",
       "\n",
       "         [[ 1,  0]],\n",
       "\n",
       "         [[ 2,  0]],\n",
       "\n",
       "         [[ 3,  0]],\n",
       "\n",
       "         [[ 4,  0]],\n",
       "\n",
       "         [[ 5,  0]],\n",
       "\n",
       "         [[ 6,  0]],\n",
       "\n",
       "         [[ 7,  0]],\n",
       "\n",
       "         [[ 8,  0]],\n",
       "\n",
       "         [[ 9,  0]],\n",
       "\n",
       "         [[10,  0]],\n",
       "\n",
       "         [[11,  0]],\n",
       "\n",
       "         [[12,  0]]],\n",
       "\n",
       "\n",
       "        [[[ 0,  1]],\n",
       "\n",
       "         [[ 1,  1]],\n",
       "\n",
       "         [[ 2,  1]],\n",
       "\n",
       "         [[ 3,  1]],\n",
       "\n",
       "         [[ 4,  1]],\n",
       "\n",
       "         [[ 5,  1]],\n",
       "\n",
       "         [[ 6,  1]],\n",
       "\n",
       "         [[ 7,  1]],\n",
       "\n",
       "         [[ 8,  1]],\n",
       "\n",
       "         [[ 9,  1]],\n",
       "\n",
       "         [[10,  1]],\n",
       "\n",
       "         [[11,  1]],\n",
       "\n",
       "         [[12,  1]]],\n",
       "\n",
       "\n",
       "        [[[ 0,  2]],\n",
       "\n",
       "         [[ 1,  2]],\n",
       "\n",
       "         [[ 2,  2]],\n",
       "\n",
       "         [[ 3,  2]],\n",
       "\n",
       "         [[ 4,  2]],\n",
       "\n",
       "         [[ 5,  2]],\n",
       "\n",
       "         [[ 6,  2]],\n",
       "\n",
       "         [[ 7,  2]],\n",
       "\n",
       "         [[ 8,  2]],\n",
       "\n",
       "         [[ 9,  2]],\n",
       "\n",
       "         [[10,  2]],\n",
       "\n",
       "         [[11,  2]],\n",
       "\n",
       "         [[12,  2]]],\n",
       "\n",
       "\n",
       "        [[[ 0,  3]],\n",
       "\n",
       "         [[ 1,  3]],\n",
       "\n",
       "         [[ 2,  3]],\n",
       "\n",
       "         [[ 3,  3]],\n",
       "\n",
       "         [[ 4,  3]],\n",
       "\n",
       "         [[ 5,  3]],\n",
       "\n",
       "         [[ 6,  3]],\n",
       "\n",
       "         [[ 7,  3]],\n",
       "\n",
       "         [[ 8,  3]],\n",
       "\n",
       "         [[ 9,  3]],\n",
       "\n",
       "         [[10,  3]],\n",
       "\n",
       "         [[11,  3]],\n",
       "\n",
       "         [[12,  3]]],\n",
       "\n",
       "\n",
       "        [[[ 0,  4]],\n",
       "\n",
       "         [[ 1,  4]],\n",
       "\n",
       "         [[ 2,  4]],\n",
       "\n",
       "         [[ 3,  4]],\n",
       "\n",
       "         [[ 4,  4]],\n",
       "\n",
       "         [[ 5,  4]],\n",
       "\n",
       "         [[ 6,  4]],\n",
       "\n",
       "         [[ 7,  4]],\n",
       "\n",
       "         [[ 8,  4]],\n",
       "\n",
       "         [[ 9,  4]],\n",
       "\n",
       "         [[10,  4]],\n",
       "\n",
       "         [[11,  4]],\n",
       "\n",
       "         [[12,  4]]],\n",
       "\n",
       "\n",
       "        [[[ 0,  5]],\n",
       "\n",
       "         [[ 1,  5]],\n",
       "\n",
       "         [[ 2,  5]],\n",
       "\n",
       "         [[ 3,  5]],\n",
       "\n",
       "         [[ 4,  5]],\n",
       "\n",
       "         [[ 5,  5]],\n",
       "\n",
       "         [[ 6,  5]],\n",
       "\n",
       "         [[ 7,  5]],\n",
       "\n",
       "         [[ 8,  5]],\n",
       "\n",
       "         [[ 9,  5]],\n",
       "\n",
       "         [[10,  5]],\n",
       "\n",
       "         [[11,  5]],\n",
       "\n",
       "         [[12,  5]]],\n",
       "\n",
       "\n",
       "        [[[ 0,  6]],\n",
       "\n",
       "         [[ 1,  6]],\n",
       "\n",
       "         [[ 2,  6]],\n",
       "\n",
       "         [[ 3,  6]],\n",
       "\n",
       "         [[ 4,  6]],\n",
       "\n",
       "         [[ 5,  6]],\n",
       "\n",
       "         [[ 6,  6]],\n",
       "\n",
       "         [[ 7,  6]],\n",
       "\n",
       "         [[ 8,  6]],\n",
       "\n",
       "         [[ 9,  6]],\n",
       "\n",
       "         [[10,  6]],\n",
       "\n",
       "         [[11,  6]],\n",
       "\n",
       "         [[12,  6]]],\n",
       "\n",
       "\n",
       "        [[[ 0,  7]],\n",
       "\n",
       "         [[ 1,  7]],\n",
       "\n",
       "         [[ 2,  7]],\n",
       "\n",
       "         [[ 3,  7]],\n",
       "\n",
       "         [[ 4,  7]],\n",
       "\n",
       "         [[ 5,  7]],\n",
       "\n",
       "         [[ 6,  7]],\n",
       "\n",
       "         [[ 7,  7]],\n",
       "\n",
       "         [[ 8,  7]],\n",
       "\n",
       "         [[ 9,  7]],\n",
       "\n",
       "         [[10,  7]],\n",
       "\n",
       "         [[11,  7]],\n",
       "\n",
       "         [[12,  7]]],\n",
       "\n",
       "\n",
       "        [[[ 0,  8]],\n",
       "\n",
       "         [[ 1,  8]],\n",
       "\n",
       "         [[ 2,  8]],\n",
       "\n",
       "         [[ 3,  8]],\n",
       "\n",
       "         [[ 4,  8]],\n",
       "\n",
       "         [[ 5,  8]],\n",
       "\n",
       "         [[ 6,  8]],\n",
       "\n",
       "         [[ 7,  8]],\n",
       "\n",
       "         [[ 8,  8]],\n",
       "\n",
       "         [[ 9,  8]],\n",
       "\n",
       "         [[10,  8]],\n",
       "\n",
       "         [[11,  8]],\n",
       "\n",
       "         [[12,  8]]],\n",
       "\n",
       "\n",
       "        [[[ 0,  9]],\n",
       "\n",
       "         [[ 1,  9]],\n",
       "\n",
       "         [[ 2,  9]],\n",
       "\n",
       "         [[ 3,  9]],\n",
       "\n",
       "         [[ 4,  9]],\n",
       "\n",
       "         [[ 5,  9]],\n",
       "\n",
       "         [[ 6,  9]],\n",
       "\n",
       "         [[ 7,  9]],\n",
       "\n",
       "         [[ 8,  9]],\n",
       "\n",
       "         [[ 9,  9]],\n",
       "\n",
       "         [[10,  9]],\n",
       "\n",
       "         [[11,  9]],\n",
       "\n",
       "         [[12,  9]]],\n",
       "\n",
       "\n",
       "        [[[ 0, 10]],\n",
       "\n",
       "         [[ 1, 10]],\n",
       "\n",
       "         [[ 2, 10]],\n",
       "\n",
       "         [[ 3, 10]],\n",
       "\n",
       "         [[ 4, 10]],\n",
       "\n",
       "         [[ 5, 10]],\n",
       "\n",
       "         [[ 6, 10]],\n",
       "\n",
       "         [[ 7, 10]],\n",
       "\n",
       "         [[ 8, 10]],\n",
       "\n",
       "         [[ 9, 10]],\n",
       "\n",
       "         [[10, 10]],\n",
       "\n",
       "         [[11, 10]],\n",
       "\n",
       "         [[12, 10]]],\n",
       "\n",
       "\n",
       "        [[[ 0, 11]],\n",
       "\n",
       "         [[ 1, 11]],\n",
       "\n",
       "         [[ 2, 11]],\n",
       "\n",
       "         [[ 3, 11]],\n",
       "\n",
       "         [[ 4, 11]],\n",
       "\n",
       "         [[ 5, 11]],\n",
       "\n",
       "         [[ 6, 11]],\n",
       "\n",
       "         [[ 7, 11]],\n",
       "\n",
       "         [[ 8, 11]],\n",
       "\n",
       "         [[ 9, 11]],\n",
       "\n",
       "         [[10, 11]],\n",
       "\n",
       "         [[11, 11]],\n",
       "\n",
       "         [[12, 11]]],\n",
       "\n",
       "\n",
       "        [[[ 0, 12]],\n",
       "\n",
       "         [[ 1, 12]],\n",
       "\n",
       "         [[ 2, 12]],\n",
       "\n",
       "         [[ 3, 12]],\n",
       "\n",
       "         [[ 4, 12]],\n",
       "\n",
       "         [[ 5, 12]],\n",
       "\n",
       "         [[ 6, 12]],\n",
       "\n",
       "         [[ 7, 12]],\n",
       "\n",
       "         [[ 8, 12]],\n",
       "\n",
       "         [[ 9, 12]],\n",
       "\n",
       "         [[10, 12]],\n",
       "\n",
       "         [[11, 12]],\n",
       "\n",
       "         [[12, 12]]]]])"
      ]
     },
     "execution_count": 21,
     "metadata": {},
     "output_type": "execute_result"
    }
   ],
   "source": [
    "cxcy"
   ]
  },
  {
   "cell_type": "code",
   "execution_count": 23,
   "metadata": {
    "collapsed": true
   },
   "outputs": [],
   "source": [
    "b=np.array([[[1,2],[3,4]],[[5,6],[7,8]]])"
   ]
  },
  {
   "cell_type": "code",
   "execution_count": 24,
   "metadata": {},
   "outputs": [
    {
     "data": {
      "text/plain": [
       "array([[[1, 2],\n",
       "        [3, 4]],\n",
       "\n",
       "       [[5, 6],\n",
       "        [7, 8]]])"
      ]
     },
     "execution_count": 24,
     "metadata": {},
     "output_type": "execute_result"
    }
   ],
   "source": [
    "b"
   ]
  },
  {
   "cell_type": "code",
   "execution_count": 25,
   "metadata": {},
   "outputs": [
    {
     "data": {
      "text/plain": [
       "(2, 2, 2)"
      ]
     },
     "execution_count": 25,
     "metadata": {},
     "output_type": "execute_result"
    }
   ],
   "source": [
    "b.shape"
   ]
  },
  {
   "cell_type": "code",
   "execution_count": 26,
   "metadata": {},
   "outputs": [
    {
     "data": {
      "text/plain": [
       "array([[2, 4],\n",
       "       [6, 8]])"
      ]
     },
     "execution_count": 26,
     "metadata": {},
     "output_type": "execute_result"
    }
   ],
   "source": [
    "b[...,1]"
   ]
  },
  {
   "cell_type": "code",
   "execution_count": 27,
   "metadata": {},
   "outputs": [
    {
     "data": {
      "text/plain": [
       "array([[2, 4],\n",
       "       [6, 8]])"
      ]
     },
     "execution_count": 27,
     "metadata": {},
     "output_type": "execute_result"
    }
   ],
   "source": [
    "b[:,:,1]"
   ]
  },
  {
   "cell_type": "code",
   "execution_count": 2,
   "metadata": {
    "collapsed": true
   },
   "outputs": [],
   "source": [
    "anchors = np.array( [[42.3072,55.4064],[102.168,128.30208],[161.78784,256.316544],[303.07584,154.89696],[359.5648,320.2272]] )"
   ]
  },
  {
   "cell_type": "code",
   "execution_count": 3,
   "metadata": {},
   "outputs": [
    {
     "data": {
      "text/plain": [
       "array([[[[[ 42.3072  ,  55.4064  ],\n",
       "          [102.168   , 128.30208 ],\n",
       "          [161.78784 , 256.316544],\n",
       "          [303.07584 , 154.89696 ],\n",
       "          [359.5648  , 320.2272  ]]]]])"
      ]
     },
     "execution_count": 3,
     "metadata": {},
     "output_type": "execute_result"
    }
   ],
   "source": [
    "np.reshape(anchors , (1,1,1,5,2))"
   ]
  },
  {
   "cell_type": "code",
   "execution_count": 6,
   "metadata": {
    "collapsed": true
   },
   "outputs": [],
   "source": [
    "a=np.array([[[[1,2,3],[4,5,6]],[[7,8,9],[10,11,12]]],[[[1,2,3],[4,5,6]],[[7,8,9],[1,2,3]]],[[[1,2,3],[4,5,6]],[[7,8,9],[1,2,3]]]])"
   ]
  },
  {
   "cell_type": "code",
   "execution_count": 16,
   "metadata": {},
   "outputs": [
    {
     "name": "stdout",
     "output_type": "stream",
     "text": [
      "[22 13 13]\n"
     ]
    }
   ],
   "source": [
    "with tf.Session() as sess:\n",
    "    _sum = tf.reduce_sum(a[... , 0:1], axis=[1,2,3,])\n",
    "    \n",
    "    print(sess.run(_sum))"
   ]
  },
  {
   "cell_type": "code",
   "execution_count": 12,
   "metadata": {},
   "outputs": [
    {
     "data": {
      "text/plain": [
       "(3, 2, 2, 3)"
      ]
     },
     "execution_count": 12,
     "metadata": {},
     "output_type": "execute_result"
    }
   ],
   "source": [
    "a.shape"
   ]
  },
  {
   "cell_type": "code",
   "execution_count": 14,
   "metadata": {},
   "outputs": [
    {
     "data": {
      "text/plain": [
       "array([[[[ 1,  2,  3],\n",
       "         [ 4,  5,  6]],\n",
       "\n",
       "        [[ 7,  8,  9],\n",
       "         [10, 11, 12]]],\n",
       "\n",
       "\n",
       "       [[[ 1,  2,  3],\n",
       "         [ 4,  5,  6]],\n",
       "\n",
       "        [[ 7,  8,  9],\n",
       "         [ 1,  2,  3]]],\n",
       "\n",
       "\n",
       "       [[[ 1,  2,  3],\n",
       "         [ 4,  5,  6]],\n",
       "\n",
       "        [[ 7,  8,  9],\n",
       "         [ 1,  2,  3]]]])"
      ]
     },
     "execution_count": 14,
     "metadata": {},
     "output_type": "execute_result"
    }
   ],
   "source": [
    "a"
   ]
  },
  {
   "cell_type": "code",
   "execution_count": 18,
   "metadata": {},
   "outputs": [
    {
     "data": {
      "text/plain": [
       "(3, 2, 2)"
      ]
     },
     "execution_count": 18,
     "metadata": {},
     "output_type": "execute_result"
    }
   ],
   "source": [
    "a[:,:,:,2].shape"
   ]
  },
  {
   "cell_type": "code",
   "execution_count": 19,
   "metadata": {},
   "outputs": [
    {
     "data": {
      "text/plain": [
       "(3, 2, 2, 1)"
      ]
     },
     "execution_count": 19,
     "metadata": {},
     "output_type": "execute_result"
    }
   ],
   "source": [
    "a[:,:,:,2:3].shape"
   ]
  },
  {
   "cell_type": "code",
   "execution_count": 28,
   "metadata": {},
   "outputs": [
    {
     "name": "stdout",
     "output_type": "stream",
     "text": [
      "[323 212]\n"
     ]
    }
   ],
   "source": [
    "with tf.Session() as sess:\n",
    "    _max = tf.where(tf.greater([1,3],[2,2]) , [22,212],[323,33])\n",
    "    \n",
    "    print(sess.run(_max))"
   ]
  },
  {
   "cell_type": "code",
   "execution_count": 22,
   "metadata": {},
   "outputs": [
    {
     "data": {
      "text/plain": [
       "<tf.Tensor 'Prod:0' shape=() dtype=int32>"
      ]
     },
     "execution_count": 22,
     "metadata": {},
     "output_type": "execute_result"
    }
   ],
   "source": [
    "tf.reduce_prod([1,2,3,4])"
   ]
  },
  {
   "cell_type": "code",
   "execution_count": null,
   "metadata": {
    "collapsed": true
   },
   "outputs": [],
   "source": []
  }
 ],
 "metadata": {
  "kernelspec": {
   "display_name": "Python 3",
   "language": "python",
   "name": "python3"
  },
  "language_info": {
   "codemirror_mode": {
    "name": "ipython",
    "version": 3
   },
   "file_extension": ".py",
   "mimetype": "text/x-python",
   "name": "python",
   "nbconvert_exporter": "python",
   "pygments_lexer": "ipython3",
   "version": "3.6.1"
  }
 },
 "nbformat": 4,
 "nbformat_minor": 2
}
