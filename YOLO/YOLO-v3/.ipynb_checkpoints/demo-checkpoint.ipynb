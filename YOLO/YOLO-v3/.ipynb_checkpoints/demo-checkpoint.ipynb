{
 "cells": [
  {
   "cell_type": "code",
   "execution_count": 27,
   "metadata": {},
   "outputs": [],
   "source": [
    "import tensorflow as tf\n",
    "import numpy as np\n",
    "\n",
    "from tensorflow.contrib import slim"
   ]
  },
  {
   "cell_type": "code",
   "execution_count": 43,
   "metadata": {},
   "outputs": [
    {
     "name": "stdout",
     "output_type": "stream",
     "text": [
      "[169, 1]\n",
      "[169, 1]\n",
      "[1, 507, 2]\n"
     ]
    }
   ],
   "source": [
    "with tf.Session() as sess:\n",
    "    a=tf.range(13 , dtype=tf.float32)\n",
    "    b=tf.range(13 , dtype=tf.float32)\n",
    "    \n",
    "    c1,c2=tf.meshgrid(a,b)\n",
    "    \n",
    "    x_offset = tf.reshape(c1,(-1,1))\n",
    "    y_offset = tf.reshape(c2,(-1,1))\n",
    "    print(x_offset.get_shape().as_list())\n",
    "    print(y_offset.get_shape().as_list())\n",
    "\n",
    "    \n",
    "    x_y_offset = tf.concat([x_offset , y_offset] , axis=-1) #13*13  2\n",
    "    x_y_offset = tf.reshape(tf.tile(x_y_offset , [1,3]) , [1,-1,2])\n",
    "    print(x_y_offset.get_shape().as_list())\n",
    "    \n",
    "    test = sess.run(x_y_offset)"
   ]
  },
  {
   "cell_type": "code",
   "execution_count": 45,
   "metadata": {},
   "outputs": [
    {
     "data": {
      "text/plain": [
       "array([[ 0.,  0.],\n",
       "       [ 0.,  0.],\n",
       "       [ 0.,  0.],\n",
       "       ...,\n",
       "       [12., 12.],\n",
       "       [12., 12.],\n",
       "       [12., 12.]], dtype=float32)"
      ]
     },
     "execution_count": 45,
     "metadata": {},
     "output_type": "execute_result"
    }
   ],
   "source": [
    "test[0]"
   ]
  },
  {
   "cell_type": "code",
   "execution_count": 38,
   "metadata": {},
   "outputs": [
    {
     "data": {
      "text/plain": [
       "507"
      ]
     },
     "execution_count": 38,
     "metadata": {},
     "output_type": "execute_result"
    }
   ],
   "source": [
    "13*13*3"
   ]
  },
  {
   "cell_type": "code",
   "execution_count": 35,
   "metadata": {},
   "outputs": [
    {
     "data": {
      "text/plain": [
       "[array([[ 0.,  1.,  2.,  3.,  4.,  5.,  6.,  7.,  8.,  9., 10., 11., 12.],\n",
       "        [ 0.,  1.,  2.,  3.,  4.,  5.,  6.,  7.,  8.,  9., 10., 11., 12.],\n",
       "        [ 0.,  1.,  2.,  3.,  4.,  5.,  6.,  7.,  8.,  9., 10., 11., 12.],\n",
       "        [ 0.,  1.,  2.,  3.,  4.,  5.,  6.,  7.,  8.,  9., 10., 11., 12.],\n",
       "        [ 0.,  1.,  2.,  3.,  4.,  5.,  6.,  7.,  8.,  9., 10., 11., 12.],\n",
       "        [ 0.,  1.,  2.,  3.,  4.,  5.,  6.,  7.,  8.,  9., 10., 11., 12.],\n",
       "        [ 0.,  1.,  2.,  3.,  4.,  5.,  6.,  7.,  8.,  9., 10., 11., 12.],\n",
       "        [ 0.,  1.,  2.,  3.,  4.,  5.,  6.,  7.,  8.,  9., 10., 11., 12.],\n",
       "        [ 0.,  1.,  2.,  3.,  4.,  5.,  6.,  7.,  8.,  9., 10., 11., 12.],\n",
       "        [ 0.,  1.,  2.,  3.,  4.,  5.,  6.,  7.,  8.,  9., 10., 11., 12.],\n",
       "        [ 0.,  1.,  2.,  3.,  4.,  5.,  6.,  7.,  8.,  9., 10., 11., 12.],\n",
       "        [ 0.,  1.,  2.,  3.,  4.,  5.,  6.,  7.,  8.,  9., 10., 11., 12.],\n",
       "        [ 0.,  1.,  2.,  3.,  4.,  5.,  6.,  7.,  8.,  9., 10., 11., 12.]],\n",
       "       dtype=float32),\n",
       " array([[ 0.,  0.,  0.,  0.,  0.,  0.,  0.,  0.,  0.,  0.,  0.,  0.,  0.],\n",
       "        [ 1.,  1.,  1.,  1.,  1.,  1.,  1.,  1.,  1.,  1.,  1.,  1.,  1.],\n",
       "        [ 2.,  2.,  2.,  2.,  2.,  2.,  2.,  2.,  2.,  2.,  2.,  2.,  2.],\n",
       "        [ 3.,  3.,  3.,  3.,  3.,  3.,  3.,  3.,  3.,  3.,  3.,  3.,  3.],\n",
       "        [ 4.,  4.,  4.,  4.,  4.,  4.,  4.,  4.,  4.,  4.,  4.,  4.,  4.],\n",
       "        [ 5.,  5.,  5.,  5.,  5.,  5.,  5.,  5.,  5.,  5.,  5.,  5.,  5.],\n",
       "        [ 6.,  6.,  6.,  6.,  6.,  6.,  6.,  6.,  6.,  6.,  6.,  6.,  6.],\n",
       "        [ 7.,  7.,  7.,  7.,  7.,  7.,  7.,  7.,  7.,  7.,  7.,  7.,  7.],\n",
       "        [ 8.,  8.,  8.,  8.,  8.,  8.,  8.,  8.,  8.,  8.,  8.,  8.,  8.],\n",
       "        [ 9.,  9.,  9.,  9.,  9.,  9.,  9.,  9.,  9.,  9.,  9.,  9.,  9.],\n",
       "        [10., 10., 10., 10., 10., 10., 10., 10., 10., 10., 10., 10., 10.],\n",
       "        [11., 11., 11., 11., 11., 11., 11., 11., 11., 11., 11., 11., 11.],\n",
       "        [12., 12., 12., 12., 12., 12., 12., 12., 12., 12., 12., 12., 12.]],\n",
       "       dtype=float32)]"
      ]
     },
     "execution_count": 35,
     "metadata": {},
     "output_type": "execute_result"
    }
   ],
   "source": [
    "test"
   ]
  },
  {
   "cell_type": "code",
   "execution_count": 25,
   "metadata": {
    "collapsed": true
   },
   "outputs": [],
   "source": [
    "def darknet53():\n",
    "    \"\"\"\n",
    "    Builds Darknet-53 model.\n",
    "    \"\"\"\n",
    "    inputs = tf.placeholder(dtype=tf.float32 , shape=[1 , 416 , 416 , 3])    \n",
    "    \n",
    "    inputs = _conv2d_fixed_padding(inputs, 32, 3)\n",
    "    inputs = _conv2d_fixed_padding(inputs, 64, 3, strides=2)\n",
    "    \n",
    "    inputs = _darknet53_block(inputs, 32)\n",
    "    \n",
    "    \n",
    "    inputs = _conv2d_fixed_padding(inputs, 128, 3, strides=2)\n",
    "\n",
    "    for i in range(2):\n",
    "        inputs = _darknet53_block(inputs, 64)\n",
    "\n",
    "    inputs = _conv2d_fixed_padding(inputs, 256, 3, strides=2)\n",
    "\n",
    "    for i in range(8):\n",
    "        inputs = _darknet53_block(inputs, 128)\n",
    "        \n",
    "    route_1 = inputs\n",
    "    \n",
    "    inputs = _conv2d_fixed_padding(inputs, 512, 3, strides=2)\n",
    "\n",
    "    for i in range(8):\n",
    "        inputs = _darknet53_block(inputs, 256)\n",
    "\n",
    "    route_2 = inputs\n",
    "    \n",
    "    inputs = _conv2d_fixed_padding(inputs, 1024, 3, strides=2)\n",
    "\n",
    "    for i in range(4):\n",
    "        inputs = _darknet53_block(inputs, 512)\n",
    "        \n",
    "    \n",
    "    # return route_1, route_2, inputs\n",
    "\n",
    "\n",
    "def _conv2d_fixed_padding(inputs, filters, kernel_size, strides=1):\n",
    "    if strides > 1:\n",
    "        inputs = _fixed_padding(inputs, kernel_size)\n",
    "    inputs = slim.conv2d(inputs, filters, kernel_size, stride=strides,\n",
    "                         padding=('SAME' if strides == 1 else 'VALID'))\n",
    "    return inputs\n",
    "\n",
    "\n",
    "def _darknet53_block(inputs, filters):\n",
    "    shortcut = inputs\n",
    "    inputs = _conv2d_fixed_padding(inputs, filters , 1)\n",
    "    \n",
    "    inputs = _conv2d_fixed_padding(inputs, filters * 2 , 3)\n",
    "    \n",
    "    inputs = inputs + shortcut\n",
    "    return inputs\n",
    "\n",
    "\n",
    "\n",
    "def _fixed_padding(inputs, kernel_size, mode='CONSTANT'):\n",
    "    \n",
    "    pad_total = kernel_size - 1\n",
    "    pad_beg = pad_total // 2\n",
    "    pad_end = pad_total - pad_beg\n",
    "\n",
    "    \n",
    "    return tf.pad(inputs, [[0, 0], [pad_beg, pad_end], [pad_beg, pad_end], [0, 0]], mode=mode)\n"
   ]
  },
  {
   "cell_type": "code",
   "execution_count": 26,
   "metadata": {
    "scrolled": false
   },
   "outputs": [
    {
     "name": "stdout",
     "output_type": "stream",
     "text": [
      "(1, 416, 416, 32)\n",
      "(1, 208, 208, 64)\n",
      "res start\n",
      "(1, 208, 208, 64)\n",
      "(1, 208, 208, 32)\n",
      "(1, 208, 208, 64)\n",
      "end===\n",
      "res start\n",
      "(1, 104, 104, 128)\n",
      "(1, 104, 104, 64)\n",
      "(1, 104, 104, 128)\n",
      "end===\n",
      "res start\n",
      "(1, 104, 104, 128)\n",
      "(1, 104, 104, 64)\n",
      "(1, 104, 104, 128)\n",
      "end===\n",
      "res start\n",
      "(1, 52, 52, 256)\n",
      "(1, 52, 52, 128)\n",
      "(1, 52, 52, 256)\n",
      "end===\n",
      "res start\n",
      "(1, 52, 52, 256)\n",
      "(1, 52, 52, 128)\n",
      "(1, 52, 52, 256)\n",
      "end===\n",
      "res start\n",
      "(1, 52, 52, 256)\n",
      "(1, 52, 52, 128)\n",
      "(1, 52, 52, 256)\n",
      "end===\n",
      "res start\n",
      "(1, 52, 52, 256)\n",
      "(1, 52, 52, 128)\n",
      "(1, 52, 52, 256)\n",
      "end===\n",
      "res start\n",
      "(1, 52, 52, 256)\n",
      "(1, 52, 52, 128)\n",
      "(1, 52, 52, 256)\n",
      "end===\n",
      "res start\n",
      "(1, 52, 52, 256)\n",
      "(1, 52, 52, 128)\n",
      "(1, 52, 52, 256)\n",
      "end===\n",
      "res start\n",
      "(1, 52, 52, 256)\n",
      "(1, 52, 52, 128)\n",
      "(1, 52, 52, 256)\n",
      "end===\n",
      "res start\n",
      "(1, 52, 52, 256)\n",
      "(1, 52, 52, 128)\n",
      "(1, 52, 52, 256)\n",
      "end===\n",
      "res start\n",
      "(1, 26, 26, 512)\n",
      "(1, 26, 26, 256)\n",
      "(1, 26, 26, 512)\n",
      "end===\n",
      "res start\n",
      "(1, 26, 26, 512)\n",
      "(1, 26, 26, 256)\n",
      "(1, 26, 26, 512)\n",
      "end===\n",
      "res start\n",
      "(1, 26, 26, 512)\n",
      "(1, 26, 26, 256)\n",
      "(1, 26, 26, 512)\n",
      "end===\n",
      "res start\n",
      "(1, 26, 26, 512)\n",
      "(1, 26, 26, 256)\n",
      "(1, 26, 26, 512)\n",
      "end===\n",
      "res start\n",
      "(1, 26, 26, 512)\n",
      "(1, 26, 26, 256)\n",
      "(1, 26, 26, 512)\n",
      "end===\n",
      "res start\n",
      "(1, 26, 26, 512)\n",
      "(1, 26, 26, 256)\n",
      "(1, 26, 26, 512)\n",
      "end===\n",
      "res start\n",
      "(1, 26, 26, 512)\n",
      "(1, 26, 26, 256)\n",
      "(1, 26, 26, 512)\n",
      "end===\n",
      "res start\n",
      "(1, 26, 26, 512)\n",
      "(1, 26, 26, 256)\n",
      "(1, 26, 26, 512)\n",
      "end===\n",
      "res start\n",
      "(1, 13, 13, 1024)\n",
      "(1, 13, 13, 512)\n",
      "(1, 13, 13, 1024)\n",
      "end===\n",
      "res start\n",
      "(1, 13, 13, 1024)\n",
      "(1, 13, 13, 512)\n",
      "(1, 13, 13, 1024)\n",
      "end===\n",
      "res start\n",
      "(1, 13, 13, 1024)\n",
      "(1, 13, 13, 512)\n",
      "(1, 13, 13, 1024)\n",
      "end===\n",
      "res start\n",
      "(1, 13, 13, 1024)\n",
      "(1, 13, 13, 512)\n",
      "(1, 13, 13, 1024)\n",
      "end===\n"
     ]
    }
   ],
   "source": [
    "darknet53()"
   ]
  },
  {
   "cell_type": "code",
   "execution_count": null,
   "metadata": {
    "collapsed": true
   },
   "outputs": [],
   "source": []
  }
 ],
 "metadata": {
  "kernelspec": {
   "display_name": "Python 3",
   "language": "python",
   "name": "python3"
  },
  "language_info": {
   "codemirror_mode": {
    "name": "ipython",
    "version": 3
   },
   "file_extension": ".py",
   "mimetype": "text/x-python",
   "name": "python",
   "nbconvert_exporter": "python",
   "pygments_lexer": "ipython3",
   "version": "3.6.1"
  }
 },
 "nbformat": 4,
 "nbformat_minor": 2
}
