{
 "cells": [
  {
   "cell_type": "code",
   "execution_count": 10,
   "metadata": {},
   "outputs": [],
   "source": [
    "from keras.applications import ResNet50\n",
    "import numpy as np\n",
    "import tensorflow as tf"
   ]
  },
  {
   "cell_type": "code",
   "execution_count": 5,
   "metadata": {},
   "outputs": [],
   "source": [
    "import tensorflow.contrib.slim as slim"
   ]
  },
  {
   "cell_type": "code",
   "execution_count": null,
   "metadata": {
    "collapsed": true
   },
   "outputs": [],
   "source": []
  },
  {
   "cell_type": "code",
   "execution_count": 32,
   "metadata": {
    "collapsed": true
   },
   "outputs": [],
   "source": [
    "x = tf.placeholder(dtype=tf.float32 , shape=[1 , 224 , 224 , 3])\n",
    "\n",
    "#resnet with FPN\n",
    "#parameter-free shortcut\n",
    "\n",
    "#C1\n",
    "net = slim.conv2d(x , num_outputs=64 , kernel_size=7 , stride=2 , padding='SAME')\n",
    "#C2\n",
    "net = slim.max_pool2d(net , kernel_size=3 , stride=2 , padding='SAME')\n",
    "res = net\n",
    "net = slim.conv2d(net , num_outputs=64 , kernel_size=3 , activation_fn=None)\n",
    "net = slim.conv2d(net , num_outputs=64 , kernel_size=3 , activation_fn=None)\n",
    "net = tf.add(res , net)\n",
    "net = tf.nn.relu(net)\n",
    "\n",
    "res = net\n",
    "net = slim.conv2d(net , num_outputs=64 , kernel_size=3 , activation_fn=None)\n",
    "net = slim.conv2d(net , num_outputs=64 , kernel_size=3 , activation_fn=None)\n",
    "net = tf.add(res , net)\n",
    "net = tf.nn.relu(net)\n",
    "\n",
    "level_c2 = net #56*56*64\n",
    "#C3\n",
    "net = slim.max_pool2d(net , kernel_size=3 , stride=2 , padding='SAME')\n",
    "res = net\n",
    "res = slim.conv2d(res , num_outputs=128 , kernel_size=3 , activation_fn = None)\n",
    "net = slim.conv2d(net , num_outputs=128 , kernel_size=3 , activation_fn = None)\n",
    "net = slim.conv2d(net , num_outputs=128 , kernel_size=3 , activation_fn = None)\n",
    "net = tf.add(res , net)\n",
    "net = tf.nn.relu(net)\n",
    "\n",
    "res = net\n",
    "net = slim.conv2d(net , num_outputs=128 , kernel_size=3 , activation_fn = None)\n",
    "net = slim.conv2d(net , num_outputs=128 , kernel_size=3 , activation_fn = None)\n",
    "net = tf.add(res , net)\n",
    "net = tf.nn.relu(net)\n",
    "\n",
    "level_c3 = net #28*28*128\n",
    "#C4\n",
    "net = slim.max_pool2d(net , kernel_size=3 , stride=2 , padding='SAME')\n",
    "res = net\n",
    "res = slim.conv2d(res , num_outputs=256 , kernel_size=3 , activation_fn = None)\n",
    "net = slim.conv2d(net , num_outputs=256 , kernel_size=3 , activation_fn = None)\n",
    "net = slim.conv2d(net , num_outputs=256 , kernel_size=3 , activation_fn = None)\n",
    "net = tf.add(res , net)\n",
    "net = tf.nn.relu(net)\n",
    "\n",
    "res = net\n",
    "net = slim.conv2d(net , num_outputs=256 , kernel_size=3 , activation_fn = None)\n",
    "net = slim.conv2d(net , num_outputs=256 , kernel_size=3 , activation_fn = None)\n",
    "net = tf.add(res , net)\n",
    "net = tf.nn.relu(net)\n",
    "\n",
    "level_c4 = net #14*14*256\n",
    "#C5\n",
    "net = slim.max_pool2d(net , kernel_size=3 , stride=2 , padding='SAME')\n",
    "res = net\n",
    "res = slim.conv2d(res , num_outputs=512 , kernel_size=3 , activation_fn = None)\n",
    "net = slim.conv2d(net , num_outputs=512 , kernel_size=3 , activation_fn = None)\n",
    "net = slim.conv2d(net , num_outputs=512 , kernel_size=3 , activation_fn = None)\n",
    "net = tf.add(res , net)\n",
    "net = tf.nn.relu(net)\n",
    "\n",
    "res = net\n",
    "net = slim.conv2d(net , num_outputs=512 , kernel_size=3)\n",
    "net = slim.conv2d(net , num_outputs=512 , kernel_size=3)\n",
    "net = tf.add(res , net)\n",
    "net = tf.nn.relu(net)\n",
    "\n",
    "level_c5 = net #7*7*512\n"
   ]
  },
  {
   "cell_type": "code",
   "execution_count": 27,
   "metadata": {},
   "outputs": [
    {
     "data": {
      "text/plain": [
       "TensorShape([Dimension(1), Dimension(56), Dimension(56), Dimension(64)])"
      ]
     },
     "execution_count": 27,
     "metadata": {},
     "output_type": "execute_result"
    }
   ],
   "source": [
    "level_c2.get_shape()"
   ]
  },
  {
   "cell_type": "code",
   "execution_count": 33,
   "metadata": {},
   "outputs": [],
   "source": [
    "level_p5 = slim.conv2d(level_c5 , num_outputs=256 , kernel_size=1)\n",
    "\n",
    "level_p4 = tf.add( tf.keras.layers.UpSampling2D()(level_p5) , slim.conv2d(level_c4 , num_outputs=256 , kernel_size=1) )\n",
    "\n",
    "level_p3 = tf.add( tf.keras.layers.UpSampling2D()(level_p4) , slim.conv2d(level_c3 , num_outputs=256 , kernel_size=1) )\n",
    "\n",
    "level_p2 = tf.add( tf.keras.layers.UpSampling2D()(level_p3) , slim.conv2d(level_c2 , num_outputs=256 , kernel_size=1)  )\n",
    "\n",
    "    \n",
    "\n",
    "level_p5 = slim.conv2d(level_p5 , num_outputs=256 , kernel_size=3)\n",
    "level_p4 = slim.conv2d(level_p4 , num_outputs=256 , kernel_size=3)\n",
    "level_p3 = slim.conv2d(level_p3 , num_outputs=256 , kernel_size=3)\n",
    "level_p2 = slim.conv2d(level_p2 , num_outputs=256 , kernel_size=3)\n",
    "\n",
    "level_p6 = slim.max_pool2d(level_p5 , kernel_size=2)\n",
    "\n"
   ]
  },
  {
   "cell_type": "code",
   "execution_count": 38,
   "metadata": {
    "collapsed": true
   },
   "outputs": [],
   "source": [
    "def rpn_head(level):\n",
    "    level_conv3x3 = slim.conv2d(level , level.get_shape().as_list()[-1] , kernel_size=3)\n",
    "    \n",
    "    cls = slim.conv2d(level_conv3x3 , 2*9 , kernel_size=1 , activation_fn=tf.nn.softmax)\n",
    "    loc = slim.conv2d(level_conv3x3 , 4*9 , kernel_size=1 , activation_fn=None)\n",
    "    \n",
    "    cls = tf.reshape(cls , shape=level.get_shape().as_list()[:3] + [9 , 2])\n",
    "    loc = tf.reshape(loc , shape=level.get_shape().as_list()[:3] + [9 , 4])\n",
    "    \n",
    "    return cls , loc"
   ]
  },
  {
   "cell_type": "code",
   "execution_count": 39,
   "metadata": {},
   "outputs": [],
   "source": [
    "cls = []\n",
    "loc = []\n",
    "\n",
    "for level in [level_p6 , level_p5 , level_p4 , level_p3 , level_p2]:\n",
    "    output = rpn_head(level)\n",
    "    \n",
    "    cls.append(output[0])\n",
    "    loc.append(output[1])"
   ]
  },
  {
   "cell_type": "code",
   "execution_count": 47,
   "metadata": {},
   "outputs": [],
   "source": [
    "#cls loc即为网络的输出"
   ]
  },
  {
   "cell_type": "code",
   "execution_count": null,
   "metadata": {
    "collapsed": true
   },
   "outputs": [],
   "source": [
    "#分类概率输出结果中 [1]设为前景的概率\n",
    "\n",
    "#step1: 取出前景概率大于背景概率的roi\n",
    "#step2: 前景概率的top-k对应的roi\n",
    "#step3: NMS\n",
    "#step4: 取2000个roi 交由fast rcnn处理"
   ]
  }
 ],
 "metadata": {
  "kernelspec": {
   "display_name": "Python 3",
   "language": "python",
   "name": "python3"
  },
  "language_info": {
   "codemirror_mode": {
    "name": "ipython",
    "version": 3
   },
   "file_extension": ".py",
   "mimetype": "text/x-python",
   "name": "python",
   "nbconvert_exporter": "python",
   "pygments_lexer": "ipython3",
   "version": "3.6.1"
  }
 },
 "nbformat": 4,
 "nbformat_minor": 2
}
