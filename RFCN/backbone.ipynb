{
 "cells": [
  {
   "cell_type": "code",
   "execution_count": 98,
   "metadata": {
    "collapsed": true
   },
   "outputs": [],
   "source": [
    "import numpy as np\n",
    "import tensorflow as tf\n",
    "\n",
    "from keras.models import Sequential\n",
    "\n",
    "from keras.layers import Conv2D\n",
    "from keras.layers import Input\n",
    "from keras.layers import Lambda\n",
    "\n",
    "from keras.layers import GlobalAveragePooling2D #PSROIPooling使用\n",
    "\n",
    "import keras.backend as K"
   ]
  },
  {
   "cell_type": "code",
   "execution_count": 5,
   "metadata": {
    "collapsed": true
   },
   "outputs": [],
   "source": [
    "k=3\n",
    "C=20 #for VOC"
   ]
  },
  {
   "cell_type": "code",
   "execution_count": null,
   "metadata": {
    "collapsed": true
   },
   "outputs": [],
   "source": []
  },
  {
   "cell_type": "code",
   "execution_count": 85,
   "metadata": {},
   "outputs": [],
   "source": [
    "#[x1 y1 x2 y2]\n",
    "roi = np.random.randint(low=0 , high=599 , size=(300 , 4)) #模拟rois"
   ]
  },
  {
   "cell_type": "code",
   "execution_count": 86,
   "metadata": {},
   "outputs": [],
   "source": [
    "roi = roi[roi[: , 0] < roi[: , 2]] #x不满足的 过滤掉\n",
    "roi = roi[roi[: , 1] < roi[: , 3]] #y不满足的 过滤掉"
   ]
  },
  {
   "cell_type": "code",
   "execution_count": 87,
   "metadata": {},
   "outputs": [],
   "source": [
    "idx = np.arange(0 , roi.shape[0])\n",
    "idx = np.expand_dims(idx , axis=-1)"
   ]
  },
  {
   "cell_type": "code",
   "execution_count": 88,
   "metadata": {},
   "outputs": [],
   "source": [
    "roi = np.concatenate((idx , roi) , axis=-1) #制造出来合格的有RPN产生的ROIs"
   ]
  },
  {
   "cell_type": "code",
   "execution_count": 90,
   "metadata": {
    "collapsed": true
   },
   "outputs": [],
   "source": [
    "strides = 600 / 20 #累计stride\n",
    "\n",
    "#roi需要根据累计的stride 向feature map映射\n",
    "roi[: , 1:] = roi[: , 1:] / strides #完成映射 feature map"
   ]
  },
  {
   "cell_type": "code",
   "execution_count": 42,
   "metadata": {},
   "outputs": [],
   "source": [
    "model = Sequential()\n",
    "\n",
    "#resnet的100层输出\n",
    "resnet_output = Input(shape=(20,20,3)) #假定已经为resnet的输出\n",
    "\n",
    "reduce_d = Conv2D(filters=1024 , kernel_size=(1,1) , strides=(1,1) , activation='relu')(resnet_output) #降维增加的\n",
    "\n",
    "#new\n",
    "#for entire image\n",
    "cls = Conv2D(filters=k*k*(C+1) , kernel_size=(1,1) , strides=(1,1) , activation='relu')(reduce_d)\n",
    "loc = Conv2D(filters=k*k*4 , kernel_size=(1,1) , strides=(1,1) , activation=None)(reduce_d)"
   ]
  },
  {
   "cell_type": "code",
   "execution_count": 92,
   "metadata": {
    "collapsed": true
   },
   "outputs": [],
   "source": [
    "def slice_layer(feature_map , x1 , x2 , y1 , y2 , pos):\n",
    "    return Lambda(lambda x: x[: , x1:x2 , y1:y2 , pos*(C+1):(pos+1)*(C+1)])(feature_map)\n",
    "\n",
    "\n"
   ]
  },
  {
   "cell_type": "code",
   "execution_count": null,
   "metadata": {
    "collapsed": true
   },
   "outputs": [],
   "source": [
    "#可以使用 下面的函数 进行roipooling实现\n",
    "tf.image.crop_and_resize()"
   ]
  },
  {
   "cell_type": "code",
   "execution_count": 94,
   "metadata": {},
   "outputs": [],
   "source": [
    "t_l = slice_layer(cls , roi[0,1:2] , roi[0,3:4] , roi[0,2:3] , roi[0,4:] , pos=0)"
   ]
  },
  {
   "cell_type": "code",
   "execution_count": 95,
   "metadata": {},
   "outputs": [
    {
     "data": {
      "text/plain": [
       "TensorShape([Dimension(None), Dimension(11), Dimension(2), Dimension(21)])"
      ]
     },
     "execution_count": 95,
     "metadata": {},
     "output_type": "execute_result"
    }
   ],
   "source": [
    "t_l.get_shape()"
   ]
  },
  {
   "cell_type": "code",
   "execution_count": 97,
   "metadata": {},
   "outputs": [
    {
     "data": {
      "text/plain": [
       "array([ 0,  1,  4, 12,  6])"
      ]
     },
     "execution_count": 97,
     "metadata": {},
     "output_type": "execute_result"
    }
   ],
   "source": [
    "roi[0]"
   ]
  },
  {
   "cell_type": "code",
   "execution_count": null,
   "metadata": {
    "collapsed": true
   },
   "outputs": [],
   "source": [
    "K.im"
   ]
  }
 ],
 "metadata": {
  "kernelspec": {
   "display_name": "Python 3",
   "language": "python",
   "name": "python3"
  },
  "language_info": {
   "codemirror_mode": {
    "name": "ipython",
    "version": 3
   },
   "file_extension": ".py",
   "mimetype": "text/x-python",
   "name": "python",
   "nbconvert_exporter": "python",
   "pygments_lexer": "ipython3",
   "version": "3.6.1"
  }
 },
 "nbformat": 4,
 "nbformat_minor": 2
}
