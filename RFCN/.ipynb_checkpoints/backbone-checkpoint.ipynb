{
 "cells": [
  {
   "cell_type": "code",
   "execution_count": 133,
   "metadata": {
    "collapsed": true
   },
   "outputs": [],
   "source": [
    "import numpy as np\n",
    "import tensorflow as tf\n",
    "\n",
    "from keras.models import Sequential\n",
    "\n",
    "from keras.layers import Conv2D\n",
    "from keras.layers import Input\n",
    "from keras.layers import Lambda\n",
    "\n",
    "from keras.layers import GlobalAveragePooling2D #PSROIPooling使用\n",
    "\n",
    "import keras.backend as K"
   ]
  },
  {
   "cell_type": "code",
   "execution_count": 134,
   "metadata": {
    "collapsed": true
   },
   "outputs": [],
   "source": [
    "k=3\n",
    "C=20 #for VOC"
   ]
  },
  {
   "cell_type": "code",
   "execution_count": null,
   "metadata": {
    "collapsed": true
   },
   "outputs": [],
   "source": []
  },
  {
   "cell_type": "code",
   "execution_count": 135,
   "metadata": {
    "collapsed": true
   },
   "outputs": [],
   "source": [
    "#[x1 y1 x2 y2]\n",
    "roi = np.random.randint(low=0 , high=599 , size=(300 , 4)) #模拟rois"
   ]
  },
  {
   "cell_type": "code",
   "execution_count": 136,
   "metadata": {
    "collapsed": true
   },
   "outputs": [],
   "source": [
    "roi = roi[roi[: , 0] < roi[: , 2]] #x不满足的 过滤掉\n",
    "roi = roi[roi[: , 1] < roi[: , 3]] #y不满足的 过滤掉"
   ]
  },
  {
   "cell_type": "code",
   "execution_count": 137,
   "metadata": {
    "collapsed": true
   },
   "outputs": [],
   "source": [
    "# idx = np.arange(0 , roi.shape[0])\n",
    "idx = np.zeros(shape=roi.shape[0]) #只作用与一张图片 故索引为0 参考tf.image.crop_and_resize函数\n",
    "idx = np.expand_dims(idx , axis=-1)"
   ]
  },
  {
   "cell_type": "code",
   "execution_count": 138,
   "metadata": {
    "collapsed": true
   },
   "outputs": [],
   "source": [
    "roi = np.concatenate((idx , roi) , axis=-1) #制造出来合格的有RPN产生的ROIs"
   ]
  },
  {
   "cell_type": "code",
   "execution_count": 139,
   "metadata": {
    "collapsed": true
   },
   "outputs": [],
   "source": [
    "strides = 600 / 20 #累计stride\n",
    "\n",
    "#roi需要根据累计的stride 向feature map映射\n",
    "roi[: , 1:] = roi[: , 1:] // strides #完成映射 feature map\n",
    "\n",
    "roi = roi.astype('int')"
   ]
  },
  {
   "cell_type": "code",
   "execution_count": 140,
   "metadata": {
    "collapsed": true
   },
   "outputs": [],
   "source": [
    "model = Sequential()\n",
    "\n",
    "#resnet的100层输出\n",
    "resnet_output = Input(shape=(20,20,3)) #假定已经为resnet的输出\n",
    "\n",
    "reduce_d = Conv2D(filters=1024 , kernel_size=(1,1) , strides=(1,1) , activation='relu')(resnet_output) #降维增加的\n",
    "\n",
    "#new\n",
    "#for entire image\n",
    "cls = Conv2D(filters=k*k*(C+1) , kernel_size=(1,1) , strides=(1,1) , activation='relu')(reduce_d)\n",
    "loc = Conv2D(filters=k*k*4 , kernel_size=(1,1) , strides=(1,1) , activation=None)(reduce_d)"
   ]
  },
  {
   "cell_type": "code",
   "execution_count": 141,
   "metadata": {
    "collapsed": true
   },
   "outputs": [],
   "source": [
    "#feature_map_h = cls.get_shape().as_list()[1]\n",
    "#feature_map_w = cls.get_shape().as_list()[2]"
   ]
  },
  {
   "cell_type": "code",
   "execution_count": 142,
   "metadata": {
    "collapsed": true
   },
   "outputs": [],
   "source": [
    "#reference https://blog.csdn.net/m0_38024332/article/details/81779544\n",
    "#tf.image.crop_resize中boxes信息为相对图片的比例信息 且顺序为 [ y1,x1,y2,x2 ]\n",
    "\n",
    "## step 1:\n",
    "#roi[1] = roi[1] / feature_map_w\n",
    "#roi[3] = roi[3] / feature_map_w\n",
    "#\n",
    "## step 2:\n",
    "#roi[2] = roi[2] / feature_map_h\n",
    "#roi[4] = roi[4] / feature_map_h\n",
    "#\n",
    "#roi[: , [1,2,3,4]] = roi[: , [2,1,4,3]]"
   ]
  },
  {
   "cell_type": "code",
   "execution_count": 143,
   "metadata": {
    "collapsed": true
   },
   "outputs": [],
   "source": [
    "def psroipooling(k_2_grids):\n",
    "    k_2_grids = GlobalAveragePooling2D()(k_2_grids)\n",
    "    #全局平均池化后维度发生变化 增加两个维度 height and width\n",
    "    k_2_grids = tf.expand_dims(k_2_grids , axis=0)\n",
    "    k_2_grids = tf.expand_dims(k_2_grids , axis=0)    \n",
    "    \n",
    "    return k_2_grids"
   ]
  },
  {
   "cell_type": "code",
   "execution_count": 144,
   "metadata": {
    "collapsed": true
   },
   "outputs": [],
   "source": [
    "def score_map_and_psroipooling(feature_map , dim):\n",
    "    '''\n",
    "    feature_map: 两种可能 分类的 定位的\n",
    "    dim: 分类时为21 定位时为4\n",
    "    '''\n",
    "\n",
    "    #所有roi\n",
    "    psrps = []\n",
    "\n",
    "    for one_roi in roi:\n",
    "        #一个roi\n",
    "        one_roi_w = one_roi[3] - one_roi[1]\n",
    "        one_roi_h = one_roi[4] - one_roi[2]\n",
    "\n",
    "        t_l = tf.slice(feature_map , begin=[0 , one_roi[2] , one_roi[1] , 21*0] , size=[1 , one_roi_h//3 , one_roi_w//3 , dim])\n",
    "        t_c = tf.slice(feature_map , begin=[0 , one_roi[2] , one_roi[1]+one_roi_w//3,21*1] , size=[1 , one_roi_h//3 , one_roi_w//3 , dim])\n",
    "        t_r = tf.slice(feature_map , begin=[0 , one_roi[2] , one_roi[1]+one_roi_w//3*2,21*2] , size=[1 , one_roi_h//3 , one_roi_w//3 , dim])\n",
    "        c_l = tf.slice(feature_map , begin=[0 , one_roi[2] + one_roi_h//3*2 , one_roi[1] ,  21*3] , size=[1 , one_roi_h//3 , one_roi_w//3 , dim])\n",
    "        c_c = tf.slice(feature_map , begin=[0 , one_roi[2] + one_roi_h//3*2 , one_roi[1]+one_roi_w//3 ,  21*4] , size=[1 , one_roi_h//3 , one_roi_w//3 , dim])\n",
    "        c_r = tf.slice(feature_map , begin=[0 , one_roi[2] + one_roi_h//3*2 , one_roi[1]+one_roi_w//3*2 ,  21*5] , size=[1 , one_roi_h//3 , one_roi_w//3 , dim])\n",
    "        d_l = tf.slice(feature_map , begin=[0 , one_roi[2] + one_roi_h//3 , one_roi[1] ,  21*6] , size=[1 , one_roi_h//3 , one_roi_w//3 , dim])\n",
    "        d_c = tf.slice(feature_map , begin=[0 , one_roi[2] + one_roi_h//3 , one_roi[1]+one_roi_w//3 ,  21*7] , size=[1 , one_roi_h//3 , one_roi_w//3 , dim])\n",
    "        d_r = tf.slice(feature_map , begin=[0 , one_roi[2] + one_roi_h//3 , one_roi[1]+one_roi_w//3*2 ,  21*8] , size=[1 , one_roi_h//3 , one_roi_w//3 , dim])\n",
    "\n",
    "        #PSROIPooling\n",
    "        t_l = psroipooling(t_l)\n",
    "        t_c = psroipooling(t_c)\n",
    "        t_r = psroipooling(t_r)\n",
    "        c_l = psroipooling(c_l)\n",
    "        c_c = psroipooling(c_c)\n",
    "        c_r = psroipooling(c_r)\n",
    "        d_l = psroipooling(d_l)\n",
    "        d_c = psroipooling(d_c)\n",
    "        d_r = psroipooling(d_r)\n",
    "\n",
    "        psrp = tf.concat([t_l,t_c,t_r,c_l,c_c,c_r,d_l,d_c,d_r] , axis=0)\n",
    "        psrp = tf.reshape( psrp , shape=[1,3,3,dim])\n",
    "\n",
    "        psrps.append(psrp)\n",
    "    \n",
    "    psrps = tf.concat(psrps , axis=0)    \n",
    "    voting = GlobalAveragePooling2D()(psrps)\n",
    "    \n",
    "    if dim == (C+1):\n",
    "        #分类概率信息\n",
    "        return tf.nn.softmax(voting)\n",
    "    else:\n",
    "        #定位offset信息\n",
    "        return voting"
   ]
  },
  {
   "cell_type": "code",
   "execution_count": 145,
   "metadata": {
    "collapsed": true
   },
   "outputs": [],
   "source": [
    "probs = score_map_and_psroipooling(cls , dim=21)"
   ]
  },
  {
   "cell_type": "code",
   "execution_count": 146,
   "metadata": {
    "collapsed": true
   },
   "outputs": [],
   "source": [
    "offset = score_map_and_psroipooling(loc , dim=4)"
   ]
  },
  {
   "cell_type": "code",
   "execution_count": 147,
   "metadata": {},
   "outputs": [
    {
     "data": {
      "text/plain": [
       "TensorShape([Dimension(71), Dimension(4)])"
      ]
     },
     "execution_count": 147,
     "metadata": {},
     "output_type": "execute_result"
    }
   ],
   "source": [
    "offset.get_shape()"
   ]
  },
  {
   "cell_type": "code",
   "execution_count": 148,
   "metadata": {},
   "outputs": [
    {
     "data": {
      "text/plain": [
       "TensorShape([Dimension(71), Dimension(21)])"
      ]
     },
     "execution_count": 148,
     "metadata": {},
     "output_type": "execute_result"
    }
   ],
   "source": [
    "probs.get_shape()"
   ]
  },
  {
   "cell_type": "code",
   "execution_count": null,
   "metadata": {
    "collapsed": true
   },
   "outputs": [],
   "source": []
  },
  {
   "cell_type": "code",
   "execution_count": null,
   "metadata": {
    "collapsed": true
   },
   "outputs": [],
   "source": []
  }
 ],
 "metadata": {
  "kernelspec": {
   "display_name": "Python 3",
   "language": "python",
   "name": "python3"
  },
  "language_info": {
   "codemirror_mode": {
    "name": "ipython",
    "version": 3
   },
   "file_extension": ".py",
   "mimetype": "text/x-python",
   "name": "python",
   "nbconvert_exporter": "python",
   "pygments_lexer": "ipython3",
   "version": "3.6.1"
  }
 },
 "nbformat": 4,
 "nbformat_minor": 2
}
