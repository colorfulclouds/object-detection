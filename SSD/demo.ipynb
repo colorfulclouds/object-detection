{
 "cells": [
  {
   "cell_type": "code",
   "execution_count": 11,
   "metadata": {
    "collapsed": true
   },
   "outputs": [],
   "source": [
    "from keras.layers import Convolution2D\n",
    "from keras.layers import MaxPooling2D\n",
    "from keras.layers import AtrousConvolution2D\n",
    "from keras.layers import ZeroPadding2D\n",
    "from keras.layers import GlobalAveragePooling2D\n",
    "from keras.layers import Input"
   ]
  },
  {
   "cell_type": "code",
   "execution_count": null,
   "metadata": {
    "collapsed": true
   },
   "outputs": [],
   "source": []
  },
  {
   "cell_type": "code",
   "execution_count": 43,
   "metadata": {
    "collapsed": true
   },
   "outputs": [
    {
     "name": "stderr",
     "output_type": "stream",
     "text": [
      "C:\\Anaconda3\\lib\\site-packages\\ipykernel_launcher.py:13: UserWarning: Update your `Conv2D` call to the Keras 2 API: `Conv2D(64, 3, activation=\"relu\", name=\"conv1_1\", padding=\"same\")`\n",
      "  del sys.path[0]\n",
      "C:\\Anaconda3\\lib\\site-packages\\ipykernel_launcher.py:17: UserWarning: Update your `Conv2D` call to the Keras 2 API: `Conv2D(64, 3, activation=\"relu\", name=\"conv1_2\", padding=\"same\")`\n",
      "C:\\Anaconda3\\lib\\site-packages\\ipykernel_launcher.py:19: UserWarning: Update your `MaxPooling2D` call to the Keras 2 API: `MaxPooling2D((2, 2), strides=(2, 2), name=\"pool1\", padding=\"same\")`\n",
      "C:\\Anaconda3\\lib\\site-packages\\ipykernel_launcher.py:24: UserWarning: Update your `Conv2D` call to the Keras 2 API: `Conv2D(128, 3, activation=\"relu\", name=\"conv2_1\", padding=\"same\")`\n",
      "C:\\Anaconda3\\lib\\site-packages\\ipykernel_launcher.py:28: UserWarning: Update your `Conv2D` call to the Keras 2 API: `Conv2D(128, 3, activation=\"relu\", name=\"conv2_2\", padding=\"same\")`\n",
      "C:\\Anaconda3\\lib\\site-packages\\ipykernel_launcher.py:30: UserWarning: Update your `MaxPooling2D` call to the Keras 2 API: `MaxPooling2D((2, 2), strides=(2, 2), name=\"pool2\", padding=\"same\")`\n",
      "C:\\Anaconda3\\lib\\site-packages\\ipykernel_launcher.py:35: UserWarning: Update your `Conv2D` call to the Keras 2 API: `Conv2D(256, 3, activation=\"relu\", name=\"conv3_1\", padding=\"same\")`\n",
      "C:\\Anaconda3\\lib\\site-packages\\ipykernel_launcher.py:39: UserWarning: Update your `Conv2D` call to the Keras 2 API: `Conv2D(256, 3, activation=\"relu\", name=\"conv3_2\", padding=\"same\")`\n",
      "C:\\Anaconda3\\lib\\site-packages\\ipykernel_launcher.py:43: UserWarning: Update your `Conv2D` call to the Keras 2 API: `Conv2D(256, 3, activation=\"relu\", name=\"conv3_3\", padding=\"same\")`\n",
      "C:\\Anaconda3\\lib\\site-packages\\ipykernel_launcher.py:45: UserWarning: Update your `MaxPooling2D` call to the Keras 2 API: `MaxPooling2D((2, 2), strides=(2, 2), name=\"pool3\", padding=\"same\")`\n"
     ]
    }
   ],
   "source": [
    "input_shape=(300,300,3)\n",
    "num_classes=21\n",
    "#Input_shape 为输入的形状（300,300,3）\n",
    "#num_class 为需要检测的种类。\n",
    " # Block 1\n",
    "net={}\n",
    "input_tensor = input_tensor = Input(shape=input_shape)\n",
    "img_size = (input_shape[1], input_shape[0])\n",
    "net['input'] = input_tensor\n",
    "\n",
    "net['conv1_1'] = Convolution2D(64, 3,\n",
    "                               activation='relu',\n",
    "                               border_mode='same',\n",
    "                               name='conv1_1')(net['input'])\n",
    "net['conv1_2'] = Convolution2D(64, 3,\n",
    "                               activation='relu',\n",
    "                               border_mode='same',\n",
    "                               name='conv1_2')(net['conv1_1'])\n",
    "net['pool1'] = MaxPooling2D((2, 2), strides=(2, 2), border_mode='same',\n",
    "                            name='pool1')(net['conv1_2'])\n",
    "# Block 2\n",
    "net['conv2_1'] = Convolution2D(128, 3,\n",
    "                               activation='relu',\n",
    "                               border_mode='same',\n",
    "                               name='conv2_1')(net['pool1'])\n",
    "net['conv2_2'] = Convolution2D(128, 3,\n",
    "                               activation='relu',\n",
    "                               border_mode='same',\n",
    "                               name='conv2_2')(net['conv2_1'])\n",
    "net['pool2'] = MaxPooling2D((2, 2), strides=(2, 2), border_mode='same',\n",
    "                            name='pool2')(net['conv2_2'])\n",
    "# Block 3\n",
    "net['conv3_1'] = Convolution2D(256, 3,\n",
    "                               activation='relu',\n",
    "                               border_mode='same',\n",
    "                               name='conv3_1')(net['pool2'])\n",
    "net['conv3_2'] = Convolution2D(256, 3,\n",
    "                               activation='relu',\n",
    "                               border_mode='same',\n",
    "                               name='conv3_2')(net['conv3_1'])\n",
    "net['conv3_3'] = Convolution2D(256, 3,\n",
    "                               activation='relu',\n",
    "                               border_mode='same',\n",
    "                               name='conv3_3')(net['conv3_2'])\n",
    "net['pool3'] = MaxPooling2D((2, 2), strides=(2, 2), border_mode='same',\n",
    "                            name='pool3')(net['conv3_3'])\n"
   ]
  },
  {
   "cell_type": "code",
   "execution_count": 45,
   "metadata": {},
   "outputs": [
    {
     "name": "stderr",
     "output_type": "stream",
     "text": [
      "C:\\Anaconda3\\lib\\site-packages\\ipykernel_launcher.py:5: UserWarning: Update your `Conv2D` call to the Keras 2 API: `Conv2D(512, 3, activation=\"relu\", name=\"conv4_1\", padding=\"same\")`\n",
      "  \"\"\"\n",
      "C:\\Anaconda3\\lib\\site-packages\\ipykernel_launcher.py:9: UserWarning: Update your `Conv2D` call to the Keras 2 API: `Conv2D(512, 3, activation=\"relu\", name=\"conv4_2\", padding=\"same\")`\n",
      "  if __name__ == '__main__':\n",
      "C:\\Anaconda3\\lib\\site-packages\\ipykernel_launcher.py:13: UserWarning: Update your `Conv2D` call to the Keras 2 API: `Conv2D(512, 3, activation=\"relu\", name=\"conv4_3\", padding=\"same\")`\n",
      "  del sys.path[0]\n"
     ]
    }
   ],
   "source": [
    "# Block 4\n",
    "net['conv4_1'] = Convolution2D(512, 3,\n",
    "                               activation='relu',\n",
    "                               border_mode='same',\n",
    "                               name='conv4_1')(net['pool3'])\n",
    "net['conv4_2'] = Convolution2D(512, 3,\n",
    "                               activation='relu',\n",
    "                               border_mode='same',\n",
    "                               name='conv4_2')(net['conv4_1'])\n",
    "net['conv4_3'] = Convolution2D(512, 3,\n",
    "                               activation='relu',\n",
    "                               border_mode='same',\n",
    "                               name='conv4_3')(net['conv4_2'])"
   ]
  },
  {
   "cell_type": "code",
   "execution_count": 46,
   "metadata": {},
   "outputs": [
    {
     "name": "stderr",
     "output_type": "stream",
     "text": [
      "C:\\Anaconda3\\lib\\site-packages\\ipykernel_launcher.py:4: UserWarning: Update your `Conv2D` call to the Keras 2 API: `Conv2D(100, 3, activation=\"relu\", name=\"detect1\", padding=\"same\")`\n",
      "  after removing the cwd from sys.path.\n"
     ]
    }
   ],
   "source": [
    "detect1 = Convolution2D(4*(21+4) , 3,\n",
    "                               activation='relu',\n",
    "                               border_mode='same',\n",
    "                               name='detect1')(net['conv4_3'])"
   ]
  },
  {
   "cell_type": "code",
   "execution_count": null,
   "metadata": {
    "collapsed": true
   },
   "outputs": [],
   "source": []
  },
  {
   "cell_type": "code",
   "execution_count": 47,
   "metadata": {},
   "outputs": [
    {
     "data": {
      "text/plain": [
       "TensorShape([Dimension(None), Dimension(38), Dimension(38), Dimension(100)])"
      ]
     },
     "execution_count": 47,
     "metadata": {},
     "output_type": "execute_result"
    }
   ],
   "source": [
    "detect1.shape"
   ]
  },
  {
   "cell_type": "code",
   "execution_count": 15,
   "metadata": {
    "collapsed": true
   },
   "outputs": [
    {
     "name": "stderr",
     "output_type": "stream",
     "text": [
      "C:\\Anaconda3\\lib\\site-packages\\ipykernel_launcher.py:12: UserWarning: Update your `Conv2D` call to the Keras 2 API: `Conv2D(64, (3, 3), activation=\"relu\", name=\"conv1_1\", padding=\"same\")`\n",
      "  if sys.path[0] == '':\n",
      "C:\\Anaconda3\\lib\\site-packages\\ipykernel_launcher.py:16: UserWarning: Update your `Conv2D` call to the Keras 2 API: `Conv2D(64, (3, 3), activation=\"relu\", name=\"conv1_2\", padding=\"same\")`\n",
      "  app.launch_new_instance()\n",
      "C:\\Anaconda3\\lib\\site-packages\\ipykernel_launcher.py:18: UserWarning: Update your `MaxPooling2D` call to the Keras 2 API: `MaxPooling2D((2, 2), strides=(2, 2), name=\"pool1\", padding=\"same\")`\n",
      "C:\\Anaconda3\\lib\\site-packages\\ipykernel_launcher.py:23: UserWarning: Update your `Conv2D` call to the Keras 2 API: `Conv2D(128, (3, 3), activation=\"relu\", name=\"conv2_1\", padding=\"same\")`\n",
      "C:\\Anaconda3\\lib\\site-packages\\ipykernel_launcher.py:27: UserWarning: Update your `Conv2D` call to the Keras 2 API: `Conv2D(128, (3, 3), activation=\"relu\", name=\"conv2_2\", padding=\"same\")`\n",
      "C:\\Anaconda3\\lib\\site-packages\\ipykernel_launcher.py:29: UserWarning: Update your `MaxPooling2D` call to the Keras 2 API: `MaxPooling2D((2, 2), strides=(2, 2), name=\"pool2\", padding=\"same\")`\n",
      "C:\\Anaconda3\\lib\\site-packages\\ipykernel_launcher.py:34: UserWarning: Update your `Conv2D` call to the Keras 2 API: `Conv2D(256, (3, 3), activation=\"relu\", name=\"conv3_1\", padding=\"same\")`\n",
      "C:\\Anaconda3\\lib\\site-packages\\ipykernel_launcher.py:38: UserWarning: Update your `Conv2D` call to the Keras 2 API: `Conv2D(256, (3, 3), activation=\"relu\", name=\"conv3_2\", padding=\"same\")`\n",
      "C:\\Anaconda3\\lib\\site-packages\\ipykernel_launcher.py:42: UserWarning: Update your `Conv2D` call to the Keras 2 API: `Conv2D(256, (3, 3), activation=\"relu\", name=\"conv3_3\", padding=\"same\")`\n",
      "C:\\Anaconda3\\lib\\site-packages\\ipykernel_launcher.py:44: UserWarning: Update your `MaxPooling2D` call to the Keras 2 API: `MaxPooling2D((2, 2), strides=(2, 2), name=\"pool3\", padding=\"same\")`\n",
      "C:\\Anaconda3\\lib\\site-packages\\ipykernel_launcher.py:49: UserWarning: Update your `Conv2D` call to the Keras 2 API: `Conv2D(512, (3, 3), activation=\"relu\", name=\"conv4_1\", padding=\"same\")`\n",
      "C:\\Anaconda3\\lib\\site-packages\\ipykernel_launcher.py:53: UserWarning: Update your `Conv2D` call to the Keras 2 API: `Conv2D(512, (3, 3), activation=\"relu\", name=\"conv4_2\", padding=\"same\")`\n",
      "C:\\Anaconda3\\lib\\site-packages\\ipykernel_launcher.py:57: UserWarning: Update your `Conv2D` call to the Keras 2 API: `Conv2D(512, (3, 3), activation=\"relu\", name=\"conv4_3\", padding=\"same\")`\n",
      "C:\\Anaconda3\\lib\\site-packages\\ipykernel_launcher.py:62: UserWarning: Update your `Conv2D` call to the Keras 2 API: `Conv2D(100, (3, 3), activation=\"relu\", name=\"detect1\", padding=\"same\")`\n",
      "C:\\Anaconda3\\lib\\site-packages\\ipykernel_launcher.py:65: UserWarning: Update your `MaxPooling2D` call to the Keras 2 API: `MaxPooling2D((2, 2), strides=(2, 2), name=\"pool4\", padding=\"same\")`\n",
      "C:\\Anaconda3\\lib\\site-packages\\ipykernel_launcher.py:70: UserWarning: Update your `Conv2D` call to the Keras 2 API: `Conv2D(512, (3, 3), activation=\"relu\", name=\"conv5_1\", padding=\"same\")`\n",
      "C:\\Anaconda3\\lib\\site-packages\\ipykernel_launcher.py:74: UserWarning: Update your `Conv2D` call to the Keras 2 API: `Conv2D(512, (3, 3), activation=\"relu\", name=\"conv5_2\", padding=\"same\")`\n",
      "C:\\Anaconda3\\lib\\site-packages\\ipykernel_launcher.py:78: UserWarning: Update your `Conv2D` call to the Keras 2 API: `Conv2D(512, (3, 3), activation=\"relu\", name=\"conv5_3\", padding=\"same\")`\n",
      "C:\\Anaconda3\\lib\\site-packages\\ipykernel_launcher.py:80: UserWarning: Update your `MaxPooling2D` call to the Keras 2 API: `MaxPooling2D((3, 3), strides=(1, 1), name=\"pool5\", padding=\"same\")`\n",
      "C:\\Anaconda3\\lib\\site-packages\\keras\\legacy\\layers.py:302: UserWarning: The `AtrousConvolution2D` layer  has been deprecated. Use instead the `Conv2D` layer with the `dilation_rate` argument.\n",
      "  warnings.warn('The `AtrousConvolution2D` layer '\n",
      "C:\\Anaconda3\\lib\\site-packages\\keras\\legacy\\layers.py:306: UserWarning: Update your `Conv2D` call to the Keras 2 API: `Conv2D(1024, (3, 3), activation=\"relu\", name=\"fc6\", dilation_rate=(6, 6), padding=\"same\")`\n",
      "  return Conv2D(*args, **kwargs)\n",
      "C:\\Anaconda3\\lib\\site-packages\\ipykernel_launcher.py:87: UserWarning: Update your `Conv2D` call to the Keras 2 API: `Conv2D(1024, (1, 1), activation=\"relu\", name=\"fc7\", padding=\"same\")`\n",
      "C:\\Anaconda3\\lib\\site-packages\\ipykernel_launcher.py:91: UserWarning: Update your `Conv2D` call to the Keras 2 API: `Conv2D(256, (1, 1), activation=\"relu\", name=\"conv6_1\", padding=\"same\")`\n",
      "C:\\Anaconda3\\lib\\site-packages\\ipykernel_launcher.py:94: UserWarning: Update your `Conv2D` call to the Keras 2 API: `Conv2D(512, (3, 3), activation=\"relu\", name=\"conv6_2\", strides=(2, 2), padding=\"same\")`\n",
      "C:\\Anaconda3\\lib\\site-packages\\ipykernel_launcher.py:98: UserWarning: Update your `Conv2D` call to the Keras 2 API: `Conv2D(128, (1, 1), activation=\"relu\", name=\"conv7_1\", padding=\"same\")`\n",
      "C:\\Anaconda3\\lib\\site-packages\\ipykernel_launcher.py:102: UserWarning: Update your `Conv2D` call to the Keras 2 API: `Conv2D(256, (3, 3), activation=\"relu\", name=\"conv7_2\", strides=(2, 2), padding=\"valid\")`\n",
      "C:\\Anaconda3\\lib\\site-packages\\ipykernel_launcher.py:106: UserWarning: Update your `Conv2D` call to the Keras 2 API: `Conv2D(128, (1, 1), activation=\"relu\", name=\"conv8_1\", padding=\"same\")`\n",
      "C:\\Anaconda3\\lib\\site-packages\\ipykernel_launcher.py:109: UserWarning: Update your `Conv2D` call to the Keras 2 API: `Conv2D(256, (3, 3), activation=\"relu\", name=\"conv8_2\", strides=(2, 2), padding=\"same\")`\n"
     ]
    }
   ],
   "source": [
    "net['pool4'] = MaxPooling2D((2, 2), strides=(2, 2), border_mode='same',\n",
    "                            name='pool4')(net['conv4_3'])\n",
    "# Block 5\n",
    "net['conv5_1'] = Convolution2D(512, 3, 3,\n",
    "                               activation='relu',\n",
    "                               border_mode='same',\n",
    "                               name='conv5_1')(net['pool4'])\n",
    "net['conv5_2'] = Convolution2D(512, 3, 3,\n",
    "                               activation='relu',\n",
    "                               border_mode='same',\n",
    "                               name='conv5_2')(net['conv5_1'])\n",
    "net['conv5_3'] = Convolution2D(512, 3, 3,\n",
    "                               activation='relu',\n",
    "                               border_mode='same',\n",
    "                               name='conv5_3')(net['conv5_2'])\n",
    "net['pool5'] = MaxPooling2D((3, 3), strides=(1, 1), border_mode='same',\n",
    "                            name='pool5')(net['conv5_3'])\n",
    "# FC6\n",
    "net['fc6'] = AtrousConvolution2D(1024, 3, 3, atrous_rate=(6, 6),\n",
    "                                 activation='relu', border_mode='same',\n",
    "                                 name='fc6')(net['pool5'])\n",
    "# FC7\n",
    "net['fc7'] = Convolution2D(1024, 1, 1, activation='relu',\n",
    "                           border_mode='same', name='fc7')(net['fc6'])\n",
    "# Block 6\n",
    "net['conv6_1'] = Convolution2D(256, 1, 1, activation='relu',\n",
    "                               border_mode='same',\n",
    "                               name='conv6_1')(net['fc7'])\n",
    "net['conv6_2'] = Convolution2D(512, 3, 3, subsample=(2, 2),\n",
    "                               activation='relu', border_mode='same',\n",
    "                               name='conv6_2')(net['conv6_1'])\n",
    "# Block 7\n",
    "net['conv7_1'] = Convolution2D(128, 1, 1, activation='relu',\n",
    "                               border_mode='same',\n",
    "                               name='conv7_1')(net['conv6_2'])\n",
    "net['conv7_2'] = ZeroPadding2D()(net['conv7_1'])\n",
    "net['conv7_2'] = Convolution2D(256, 3, 3, subsample=(2, 2),\n",
    "                               activation='relu', border_mode='valid',\n",
    "                               name='conv7_2')(net['conv7_2'])\n",
    "# Block 8\n",
    "net['conv8_1'] = Convolution2D(128, 1, 1, activation='relu',\n",
    "                               border_mode='same',\n",
    "                               name='conv8_1')(net['conv7_2'])\n",
    "net['conv8_2'] = Convolution2D(256, 3, 3, subsample=(2, 2),\n",
    "                               activation='relu', border_mode='same',\n",
    "                               name='conv8_2')(net['conv8_1'])\n",
    "# Last Pool\n",
    "net['pool6'] = GlobalAveragePooling2D(name='pool6')(net['conv8_2'])"
   ]
  },
  {
   "cell_type": "code",
   "execution_count": null,
   "metadata": {
    "collapsed": true
   },
   "outputs": [],
   "source": []
  }
 ],
 "metadata": {
  "kernelspec": {
   "display_name": "Python 3",
   "language": "python",
   "name": "python3"
  },
  "language_info": {
   "codemirror_mode": {
    "name": "ipython",
    "version": 3
   },
   "file_extension": ".py",
   "mimetype": "text/x-python",
   "name": "python",
   "nbconvert_exporter": "python",
   "pygments_lexer": "ipython3",
   "version": "3.6.1"
  }
 },
 "nbformat": 4,
 "nbformat_minor": 2
}
